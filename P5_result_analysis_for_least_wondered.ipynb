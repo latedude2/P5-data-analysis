{
 "cells": [
  {
   "cell_type": "markdown",
   "metadata": {},
   "source": [
    "# Setup"
   ]
  },
  {
   "cell_type": "code",
   "execution_count": 1,
   "metadata": {},
   "outputs": [],
   "source": [
    "import pandas as pd \n",
    "import scipy.stats as stats\n",
    "\n",
    "# We also want to plot graphs and histograms\n",
    "# using matplotlib\n",
    "import matplotlib.pyplot as plt"
   ]
  },
  {
   "cell_type": "code",
   "execution_count": 2,
   "metadata": {
    "scrolled": true
   },
   "outputs": [],
   "source": [
    "dataConditionA = pd.read_csv('conditionA.csv', header=0, names = ['participant number', 'time going forward', 'time going back', 'mistakes made', 'shortcuts taken', 'times wandered away from navigational aid', 'time spent away from navigational aid', 'finished'])  #Reading data where the arrow was the navigational aid\n",
    "dataConditionA[\"condition\"] = \"Arrow\""
   ]
  },
  {
   "cell_type": "code",
   "execution_count": 3,
   "metadata": {},
   "outputs": [],
   "source": [
    "dataConditionB = pd.read_csv('conditionB.csv', header=0, names = ['participant number', 'time going forward', 'time going back', 'mistakes made', 'shortcuts taken', 'times wandered away from navigational aid', 'time spent away from navigational aid', 'finished'])  #Reading data where the arrow was the navigational aid\n",
    "dataConditionB[\"condition\"] = \"NPC\""
   ]
  },
  {
   "cell_type": "code",
   "execution_count": 4,
   "metadata": {
    "scrolled": true
   },
   "outputs": [],
   "source": [
    "timeWonderedPercentage = 0.01\n",
    "def getDataNoWonder(conditionData):\n",
    "    finishedCondition = conditionData.loc[conditionData[\"time spent away from navigational aid\"] >= 0]\n",
    "\n",
    "    dataNoWonder = pd.DataFrame(data={}, columns=finishedCondition.columns)\n",
    "    iterator = 0\n",
    "    for timeGoingForward in finishedCondition[\"time going forward\"].values:\n",
    "        timeWondering = finishedCondition[\"time spent away from navigational aid\"].values[iterator]\n",
    "        if timeWondering / timeGoingForward < timeWonderedPercentage:\n",
    "            dataNoWonder.loc[iterator] = finishedCondition.iloc[iterator]\n",
    "        iterator+=1\n",
    "    return dataNoWonder"
   ]
  },
  {
   "cell_type": "code",
   "execution_count": 5,
   "metadata": {},
   "outputs": [],
   "source": [
    "dataNoWonderA = getDataNoWonder(dataConditionA)\n",
    "dataNoWonderB = getDataNoWonder(dataConditionB)"
   ]
  },
  {
   "cell_type": "code",
   "execution_count": 6,
   "metadata": {
    "scrolled": true
   },
   "outputs": [
    {
     "data": {
      "text/html": [
       "<div>\n",
       "<style scoped>\n",
       "    .dataframe tbody tr th:only-of-type {\n",
       "        vertical-align: middle;\n",
       "    }\n",
       "\n",
       "    .dataframe tbody tr th {\n",
       "        vertical-align: top;\n",
       "    }\n",
       "\n",
       "    .dataframe thead th {\n",
       "        text-align: right;\n",
       "    }\n",
       "</style>\n",
       "<table border=\"1\" class=\"dataframe\">\n",
       "  <thead>\n",
       "    <tr style=\"text-align: right;\">\n",
       "      <th></th>\n",
       "      <th>participant number</th>\n",
       "      <th>time going forward</th>\n",
       "      <th>time going back</th>\n",
       "      <th>mistakes made</th>\n",
       "      <th>shortcuts taken</th>\n",
       "      <th>times wandered away from navigational aid</th>\n",
       "      <th>time spent away from navigational aid</th>\n",
       "      <th>finished</th>\n",
       "      <th>condition</th>\n",
       "    </tr>\n",
       "  </thead>\n",
       "  <tbody>\n",
       "    <tr>\n",
       "      <td>0</td>\n",
       "      <td>A00</td>\n",
       "      <td>337.88000</td>\n",
       "      <td>274.20000</td>\n",
       "      <td>2</td>\n",
       "      <td>1</td>\n",
       "      <td>0</td>\n",
       "      <td>0.000000</td>\n",
       "      <td>Yes</td>\n",
       "      <td>Arrow</td>\n",
       "    </tr>\n",
       "    <tr>\n",
       "      <td>1</td>\n",
       "      <td>A01</td>\n",
       "      <td>356.92004</td>\n",
       "      <td>612.51996</td>\n",
       "      <td>5</td>\n",
       "      <td>4</td>\n",
       "      <td>1</td>\n",
       "      <td>0.760010</td>\n",
       "      <td>Yes</td>\n",
       "      <td>Arrow</td>\n",
       "    </tr>\n",
       "    <tr>\n",
       "      <td>6</td>\n",
       "      <td>A08</td>\n",
       "      <td>357.88000</td>\n",
       "      <td>384.44003</td>\n",
       "      <td>5</td>\n",
       "      <td>3</td>\n",
       "      <td>0</td>\n",
       "      <td>0.000000</td>\n",
       "      <td>Yes</td>\n",
       "      <td>Arrow</td>\n",
       "    </tr>\n",
       "    <tr>\n",
       "      <td>7</td>\n",
       "      <td>A11</td>\n",
       "      <td>447.92000</td>\n",
       "      <td>338.36000</td>\n",
       "      <td>3</td>\n",
       "      <td>3</td>\n",
       "      <td>1</td>\n",
       "      <td>1.240021</td>\n",
       "      <td>Yes</td>\n",
       "      <td>Arrow</td>\n",
       "    </tr>\n",
       "    <tr>\n",
       "      <td>9</td>\n",
       "      <td>A13</td>\n",
       "      <td>357.84000</td>\n",
       "      <td>385.16000</td>\n",
       "      <td>5</td>\n",
       "      <td>3</td>\n",
       "      <td>0</td>\n",
       "      <td>0.000000</td>\n",
       "      <td>Yes</td>\n",
       "      <td>Arrow</td>\n",
       "    </tr>\n",
       "    <tr>\n",
       "      <td>10</td>\n",
       "      <td>A15</td>\n",
       "      <td>308.04000</td>\n",
       "      <td>498.96000</td>\n",
       "      <td>8</td>\n",
       "      <td>4</td>\n",
       "      <td>1</td>\n",
       "      <td>0.600006</td>\n",
       "      <td>Yes</td>\n",
       "      <td>Arrow</td>\n",
       "    </tr>\n",
       "    <tr>\n",
       "      <td>13</td>\n",
       "      <td>A21</td>\n",
       "      <td>332.36000</td>\n",
       "      <td>548.44006</td>\n",
       "      <td>5</td>\n",
       "      <td>3</td>\n",
       "      <td>1</td>\n",
       "      <td>0.079987</td>\n",
       "      <td>Yes</td>\n",
       "      <td>Arrow</td>\n",
       "    </tr>\n",
       "    <tr>\n",
       "      <td>15</td>\n",
       "      <td>A23</td>\n",
       "      <td>366.63998</td>\n",
       "      <td>374.88004</td>\n",
       "      <td>6</td>\n",
       "      <td>0</td>\n",
       "      <td>0</td>\n",
       "      <td>0.000000</td>\n",
       "      <td>Yes</td>\n",
       "      <td>Arrow</td>\n",
       "    </tr>\n",
       "    <tr>\n",
       "      <td>19</td>\n",
       "      <td>A27</td>\n",
       "      <td>367.47998</td>\n",
       "      <td>742.68010</td>\n",
       "      <td>9</td>\n",
       "      <td>4</td>\n",
       "      <td>0</td>\n",
       "      <td>0.000000</td>\n",
       "      <td>Yes</td>\n",
       "      <td>Arrow</td>\n",
       "    </tr>\n",
       "    <tr>\n",
       "      <td>20</td>\n",
       "      <td>A29</td>\n",
       "      <td>332.12000</td>\n",
       "      <td>325.72003</td>\n",
       "      <td>4</td>\n",
       "      <td>2</td>\n",
       "      <td>0</td>\n",
       "      <td>0.000000</td>\n",
       "      <td>Yes</td>\n",
       "      <td>Arrow</td>\n",
       "    </tr>\n",
       "    <tr>\n",
       "      <td>22</td>\n",
       "      <td>A32</td>\n",
       "      <td>355.72000</td>\n",
       "      <td>327.43997</td>\n",
       "      <td>4</td>\n",
       "      <td>2</td>\n",
       "      <td>0</td>\n",
       "      <td>0.000000</td>\n",
       "      <td>Yes</td>\n",
       "      <td>Arrow</td>\n",
       "    </tr>\n",
       "    <tr>\n",
       "      <td>28</td>\n",
       "      <td>A38</td>\n",
       "      <td>302.40000</td>\n",
       "      <td>314.36002</td>\n",
       "      <td>4</td>\n",
       "      <td>2</td>\n",
       "      <td>0</td>\n",
       "      <td>0.000000</td>\n",
       "      <td>Yes</td>\n",
       "      <td>Arrow</td>\n",
       "    </tr>\n",
       "    <tr>\n",
       "      <td>32</td>\n",
       "      <td>A45</td>\n",
       "      <td>316.52000</td>\n",
       "      <td>462.92000</td>\n",
       "      <td>5</td>\n",
       "      <td>2</td>\n",
       "      <td>0</td>\n",
       "      <td>0.000000</td>\n",
       "      <td>Yes</td>\n",
       "      <td>Arrow</td>\n",
       "    </tr>\n",
       "  </tbody>\n",
       "</table>\n",
       "</div>"
      ],
      "text/plain": [
       "   participant number  time going forward  time going back mistakes made  \\\n",
       "0                 A00           337.88000        274.20000             2   \n",
       "1                 A01           356.92004        612.51996             5   \n",
       "6                 A08           357.88000        384.44003             5   \n",
       "7                 A11           447.92000        338.36000             3   \n",
       "9                 A13           357.84000        385.16000             5   \n",
       "10                A15           308.04000        498.96000             8   \n",
       "13                A21           332.36000        548.44006             5   \n",
       "15                A23           366.63998        374.88004             6   \n",
       "19                A27           367.47998        742.68010             9   \n",
       "20                A29           332.12000        325.72003             4   \n",
       "22                A32           355.72000        327.43997             4   \n",
       "28                A38           302.40000        314.36002             4   \n",
       "32                A45           316.52000        462.92000             5   \n",
       "\n",
       "   shortcuts taken times wandered away from navigational aid  \\\n",
       "0                1                                         0   \n",
       "1                4                                         1   \n",
       "6                3                                         0   \n",
       "7                3                                         1   \n",
       "9                3                                         0   \n",
       "10               4                                         1   \n",
       "13               3                                         1   \n",
       "15               0                                         0   \n",
       "19               4                                         0   \n",
       "20               2                                         0   \n",
       "22               2                                         0   \n",
       "28               2                                         0   \n",
       "32               2                                         0   \n",
       "\n",
       "    time spent away from navigational aid finished condition  \n",
       "0                                0.000000      Yes     Arrow  \n",
       "1                                0.760010      Yes     Arrow  \n",
       "6                                0.000000      Yes     Arrow  \n",
       "7                                1.240021      Yes     Arrow  \n",
       "9                                0.000000      Yes     Arrow  \n",
       "10                               0.600006      Yes     Arrow  \n",
       "13                               0.079987      Yes     Arrow  \n",
       "15                               0.000000      Yes     Arrow  \n",
       "19                               0.000000      Yes     Arrow  \n",
       "20                               0.000000      Yes     Arrow  \n",
       "22                               0.000000      Yes     Arrow  \n",
       "28                               0.000000      Yes     Arrow  \n",
       "32                               0.000000      Yes     Arrow  "
      ]
     },
     "execution_count": 6,
     "metadata": {},
     "output_type": "execute_result"
    }
   ],
   "source": [
    "dataNoWonderA"
   ]
  },
  {
   "cell_type": "code",
   "execution_count": 7,
   "metadata": {
    "scrolled": true
   },
   "outputs": [
    {
     "data": {
      "text/html": [
       "<div>\n",
       "<style scoped>\n",
       "    .dataframe tbody tr th:only-of-type {\n",
       "        vertical-align: middle;\n",
       "    }\n",
       "\n",
       "    .dataframe tbody tr th {\n",
       "        vertical-align: top;\n",
       "    }\n",
       "\n",
       "    .dataframe thead th {\n",
       "        text-align: right;\n",
       "    }\n",
       "</style>\n",
       "<table border=\"1\" class=\"dataframe\">\n",
       "  <thead>\n",
       "    <tr style=\"text-align: right;\">\n",
       "      <th></th>\n",
       "      <th>participant number</th>\n",
       "      <th>time going forward</th>\n",
       "      <th>time going back</th>\n",
       "      <th>mistakes made</th>\n",
       "      <th>shortcuts taken</th>\n",
       "      <th>times wandered away from navigational aid</th>\n",
       "      <th>time spent away from navigational aid</th>\n",
       "      <th>finished</th>\n",
       "      <th>condition</th>\n",
       "    </tr>\n",
       "  </thead>\n",
       "  <tbody>\n",
       "    <tr>\n",
       "      <td>2</td>\n",
       "      <td>B03</td>\n",
       "      <td>353.68000</td>\n",
       "      <td>349.56000</td>\n",
       "      <td>6</td>\n",
       "      <td>2</td>\n",
       "      <td>1</td>\n",
       "      <td>0.040009</td>\n",
       "      <td>Yes</td>\n",
       "      <td>NPC</td>\n",
       "    </tr>\n",
       "    <tr>\n",
       "      <td>7</td>\n",
       "      <td>B09</td>\n",
       "      <td>316.08002</td>\n",
       "      <td>410.07996</td>\n",
       "      <td>5</td>\n",
       "      <td>3</td>\n",
       "      <td>0</td>\n",
       "      <td>0.000000</td>\n",
       "      <td>Yes</td>\n",
       "      <td>NPC</td>\n",
       "    </tr>\n",
       "    <tr>\n",
       "      <td>9</td>\n",
       "      <td>B12</td>\n",
       "      <td>315.52000</td>\n",
       "      <td>1318.36010</td>\n",
       "      <td>12</td>\n",
       "      <td>4</td>\n",
       "      <td>0</td>\n",
       "      <td>0.000000</td>\n",
       "      <td>Yes</td>\n",
       "      <td>NPC</td>\n",
       "    </tr>\n",
       "    <tr>\n",
       "      <td>10</td>\n",
       "      <td>B13</td>\n",
       "      <td>316.40000</td>\n",
       "      <td>492.32004</td>\n",
       "      <td>7</td>\n",
       "      <td>2</td>\n",
       "      <td>0</td>\n",
       "      <td>0.000000</td>\n",
       "      <td>Yes</td>\n",
       "      <td>NPC</td>\n",
       "    </tr>\n",
       "    <tr>\n",
       "      <td>12</td>\n",
       "      <td>B16</td>\n",
       "      <td>330.88000</td>\n",
       "      <td>352.52002</td>\n",
       "      <td>4</td>\n",
       "      <td>4</td>\n",
       "      <td>0</td>\n",
       "      <td>0.000000</td>\n",
       "      <td>Yes</td>\n",
       "      <td>NPC</td>\n",
       "    </tr>\n",
       "    <tr>\n",
       "      <td>14</td>\n",
       "      <td>B20</td>\n",
       "      <td>296.91998</td>\n",
       "      <td>449.36002</td>\n",
       "      <td>4</td>\n",
       "      <td>4</td>\n",
       "      <td>0</td>\n",
       "      <td>0.000000</td>\n",
       "      <td>Yes</td>\n",
       "      <td>NPC</td>\n",
       "    </tr>\n",
       "    <tr>\n",
       "      <td>17</td>\n",
       "      <td>B23</td>\n",
       "      <td>296.24000</td>\n",
       "      <td>883.40010</td>\n",
       "      <td>8</td>\n",
       "      <td>4</td>\n",
       "      <td>0</td>\n",
       "      <td>0.000000</td>\n",
       "      <td>Yes</td>\n",
       "      <td>NPC</td>\n",
       "    </tr>\n",
       "    <tr>\n",
       "      <td>19</td>\n",
       "      <td>B26</td>\n",
       "      <td>284.68000</td>\n",
       "      <td>320.95996</td>\n",
       "      <td>5</td>\n",
       "      <td>0</td>\n",
       "      <td>0</td>\n",
       "      <td>0.000000</td>\n",
       "      <td>Yes</td>\n",
       "      <td>NPC</td>\n",
       "    </tr>\n",
       "    <tr>\n",
       "      <td>20</td>\n",
       "      <td>B29</td>\n",
       "      <td>318.60000</td>\n",
       "      <td>372.75998</td>\n",
       "      <td>6</td>\n",
       "      <td>3</td>\n",
       "      <td>0</td>\n",
       "      <td>0.000000</td>\n",
       "      <td>Yes</td>\n",
       "      <td>NPC</td>\n",
       "    </tr>\n",
       "    <tr>\n",
       "      <td>26</td>\n",
       "      <td>B43</td>\n",
       "      <td>314.60000</td>\n",
       "      <td>475.55997</td>\n",
       "      <td>5</td>\n",
       "      <td>2</td>\n",
       "      <td>0</td>\n",
       "      <td>0.000000</td>\n",
       "      <td>Yes</td>\n",
       "      <td>NPC</td>\n",
       "    </tr>\n",
       "    <tr>\n",
       "      <td>27</td>\n",
       "      <td>B46</td>\n",
       "      <td>340.52000</td>\n",
       "      <td>312.96000</td>\n",
       "      <td>3</td>\n",
       "      <td>1</td>\n",
       "      <td>0</td>\n",
       "      <td>0.000000</td>\n",
       "      <td>Yes</td>\n",
       "      <td>NPC</td>\n",
       "    </tr>\n",
       "    <tr>\n",
       "      <td>28</td>\n",
       "      <td>B48</td>\n",
       "      <td>297.04000</td>\n",
       "      <td>395.75998</td>\n",
       "      <td>2</td>\n",
       "      <td>2</td>\n",
       "      <td>0</td>\n",
       "      <td>0.000000</td>\n",
       "      <td>Yes</td>\n",
       "      <td>NPC</td>\n",
       "    </tr>\n",
       "    <tr>\n",
       "      <td>29</td>\n",
       "      <td>B49</td>\n",
       "      <td>293.60000</td>\n",
       "      <td>494.08000</td>\n",
       "      <td>6</td>\n",
       "      <td>3</td>\n",
       "      <td>0</td>\n",
       "      <td>0.000000</td>\n",
       "      <td>Yes</td>\n",
       "      <td>NPC</td>\n",
       "    </tr>\n",
       "    <tr>\n",
       "      <td>35</td>\n",
       "      <td>B62</td>\n",
       "      <td>539.00000</td>\n",
       "      <td>371.76000</td>\n",
       "      <td>5</td>\n",
       "      <td>2</td>\n",
       "      <td>1</td>\n",
       "      <td>3.440002</td>\n",
       "      <td>Yes</td>\n",
       "      <td>NPC</td>\n",
       "    </tr>\n",
       "    <tr>\n",
       "      <td>36</td>\n",
       "      <td>B63</td>\n",
       "      <td>295.08002</td>\n",
       "      <td>350.88000</td>\n",
       "      <td>6</td>\n",
       "      <td>1</td>\n",
       "      <td>0</td>\n",
       "      <td>0.000000</td>\n",
       "      <td>Yes</td>\n",
       "      <td>NPC</td>\n",
       "    </tr>\n",
       "  </tbody>\n",
       "</table>\n",
       "</div>"
      ],
      "text/plain": [
       "   participant number  time going forward  time going back mistakes made  \\\n",
       "2                 B03           353.68000        349.56000             6   \n",
       "7                 B09           316.08002        410.07996             5   \n",
       "9                 B12           315.52000       1318.36010            12   \n",
       "10                B13           316.40000        492.32004             7   \n",
       "12                B16           330.88000        352.52002             4   \n",
       "14                B20           296.91998        449.36002             4   \n",
       "17                B23           296.24000        883.40010             8   \n",
       "19                B26           284.68000        320.95996             5   \n",
       "20                B29           318.60000        372.75998             6   \n",
       "26                B43           314.60000        475.55997             5   \n",
       "27                B46           340.52000        312.96000             3   \n",
       "28                B48           297.04000        395.75998             2   \n",
       "29                B49           293.60000        494.08000             6   \n",
       "35                B62           539.00000        371.76000             5   \n",
       "36                B63           295.08002        350.88000             6   \n",
       "\n",
       "   shortcuts taken times wandered away from navigational aid  \\\n",
       "2                2                                         1   \n",
       "7                3                                         0   \n",
       "9                4                                         0   \n",
       "10               2                                         0   \n",
       "12               4                                         0   \n",
       "14               4                                         0   \n",
       "17               4                                         0   \n",
       "19               0                                         0   \n",
       "20               3                                         0   \n",
       "26               2                                         0   \n",
       "27               1                                         0   \n",
       "28               2                                         0   \n",
       "29               3                                         0   \n",
       "35               2                                         1   \n",
       "36               1                                         0   \n",
       "\n",
       "    time spent away from navigational aid finished condition  \n",
       "2                                0.040009      Yes       NPC  \n",
       "7                                0.000000      Yes       NPC  \n",
       "9                                0.000000      Yes       NPC  \n",
       "10                               0.000000      Yes       NPC  \n",
       "12                               0.000000      Yes       NPC  \n",
       "14                               0.000000      Yes       NPC  \n",
       "17                               0.000000      Yes       NPC  \n",
       "19                               0.000000      Yes       NPC  \n",
       "20                               0.000000      Yes       NPC  \n",
       "26                               0.000000      Yes       NPC  \n",
       "27                               0.000000      Yes       NPC  \n",
       "28                               0.000000      Yes       NPC  \n",
       "29                               0.000000      Yes       NPC  \n",
       "35                               3.440002      Yes       NPC  \n",
       "36                               0.000000      Yes       NPC  "
      ]
     },
     "execution_count": 7,
     "metadata": {},
     "output_type": "execute_result"
    }
   ],
   "source": [
    "dataNoWonderB"
   ]
  },
  {
   "cell_type": "markdown",
   "metadata": {},
   "source": [
    "## T-test"
   ]
  },
  {
   "cell_type": "markdown",
   "metadata": {},
   "source": [
    "#### Precautions before doing t-test"
   ]
  },
  {
   "cell_type": "code",
   "execution_count": 45,
   "metadata": {},
   "outputs": [
    {
     "data": {
      "text/plain": [
       "(0.9404818415641785, 0.4631720185279846)"
      ]
     },
     "execution_count": 45,
     "metadata": {},
     "output_type": "execute_result"
    }
   ],
   "source": [
    "import numpy\n",
    "arrowTime = dataNoWonderA.loc[dataNoWonderA[\"condition\"] == \"Arrow\", 'time going back']\n",
    "arrowTime = numpy.log(arrowTime)\n",
    "stats.shapiro(arrowTime)"
   ]
  },
  {
   "cell_type": "code",
   "execution_count": 46,
   "metadata": {},
   "outputs": [
    {
     "data": {
      "text/plain": [
       "(0.7671568393707275, 0.0014358162879943848)"
      ]
     },
     "execution_count": 46,
     "metadata": {},
     "output_type": "execute_result"
    }
   ],
   "source": [
    "npcTime = dataNoWonderB.loc[dataNoWonderB[\"condition\"] == \"NPC\", 'time going back']\n",
    "npcTime = numpy.log(npcTime)\n",
    "stats.shapiro(npcTime)"
   ]
  },
  {
   "cell_type": "code",
   "execution_count": 47,
   "metadata": {},
   "outputs": [
    {
     "data": {
      "text/plain": [
       "(0.9083420634269714, 0.1740453690290451)"
      ]
     },
     "execution_count": 47,
     "metadata": {},
     "output_type": "execute_result"
    }
   ],
   "source": [
    "arrowMistakes = dataNoWonderA.loc[dataNoWonderA[\"condition\"] == \"Arrow\", 'mistakes made']\n",
    "stats.shapiro(arrowMistakes)"
   ]
  },
  {
   "cell_type": "code",
   "execution_count": 48,
   "metadata": {},
   "outputs": [
    {
     "data": {
      "text/plain": [
       "(0.8881187438964844, 0.06281114369630814)"
      ]
     },
     "execution_count": 48,
     "metadata": {},
     "output_type": "execute_result"
    }
   ],
   "source": [
    "npcMistakes = dataNoWonderB.loc[dataNoWonderB[\"condition\"] == \"NPC\", 'mistakes made']\n",
    "stats.shapiro(npcMistakes)"
   ]
  },
  {
   "cell_type": "code",
   "execution_count": 49,
   "metadata": {},
   "outputs": [
    {
     "data": {
      "text/plain": [
       "LeveneResult(statistic=0.043305809531452966, pvalue=0.8367720680244132)"
      ]
     },
     "execution_count": 49,
     "metadata": {},
     "output_type": "execute_result"
    }
   ],
   "source": [
    "stats.levene(arrowTime, npcTime)"
   ]
  },
  {
   "cell_type": "code",
   "execution_count": 50,
   "metadata": {},
   "outputs": [
    {
     "data": {
      "text/plain": [
       "LeveneResult(statistic=0.24362052629312206, pvalue=0.6257470604638895)"
      ]
     },
     "execution_count": 50,
     "metadata": {},
     "output_type": "execute_result"
    }
   ],
   "source": [
    "stats.levene(arrowMistakes, npcMistakes)"
   ]
  },
  {
   "cell_type": "code",
   "execution_count": 51,
   "metadata": {},
   "outputs": [
    {
     "data": {
      "image/png": "[encoded data removed]",
      "text/plain": [
       "<Figure size 432x288 with 1 Axes>"
      ]
     },
     "metadata": {
      "needs_background": "light"
     },
     "output_type": "display_data"
    }
   ],
   "source": [
    "stats.probplot(arrowTime, plot = plt)\n",
    "plt.show()"
   ]
  },
  {
   "cell_type": "code",
   "execution_count": 52,
   "metadata": {},
   "outputs": [
    {
     "data": {
      "image/png": "[encoded data removed]",
      "text/plain": [
       "<Figure size 432x288 with 1 Axes>"
      ]
     },
     "metadata": {
      "needs_background": "light"
     },
     "output_type": "display_data"
    }
   ],
   "source": [
    "stats.probplot(npcTime, plot = plt)\n",
    "plt.show()"
   ]
  },
  {
   "cell_type": "markdown",
   "metadata": {},
   "source": [
    "#### Comparing times to go back"
   ]
  },
  {
   "cell_type": "code",
   "execution_count": 53,
   "metadata": {},
   "outputs": [
    {
     "data": {
      "text/plain": [
       "Ttest_indResult(statistic=-0.6277589596155931, pvalue=0.5356370789128311)"
      ]
     },
     "execution_count": 53,
     "metadata": {},
     "output_type": "execute_result"
    }
   ],
   "source": [
    "stats.ttest_ind(arrowTime, npcTime)"
   ]
  },
  {
   "cell_type": "markdown",
   "metadata": {},
   "source": [
    "#### Comparing mistakes made"
   ]
  },
  {
   "cell_type": "code",
   "execution_count": 35,
   "metadata": {},
   "outputs": [
    {
     "data": {
      "text/plain": [
       "Ttest_indResult(statistic=-0.7445134596131818, pvalue=0.4632425841024729)"
      ]
     },
     "execution_count": 35,
     "metadata": {},
     "output_type": "execute_result"
    }
   ],
   "source": [
    "stats.ttest_ind(arrowMistakes, npcMistakes)"
   ]
  },
  {
   "cell_type": "code",
   "execution_count": null,
   "metadata": {},
   "outputs": [],
   "source": []
  }
 ],
 "metadata": {
  "kernelspec": {
   "display_name": "Python 3",
   "language": "python",
   "name": "python3"
  },
  "language_info": {
   "codemirror_mode": {
    "name": "ipython",
    "version": 3
   },
   "file_extension": ".py",
   "mimetype": "text/x-python",
   "name": "python",
   "nbconvert_exporter": "python",
   "pygments_lexer": "ipython3",
   "version": "3.7.4"
  }
 },
 "nbformat": 4,
 "nbformat_minor": 4
}
