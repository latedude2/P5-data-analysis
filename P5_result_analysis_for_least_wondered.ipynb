{
 "cells": [
  {
   "cell_type": "markdown",
   "metadata": {},
   "source": [
    "# Setup"
   ]
  },
  {
   "cell_type": "code",
   "execution_count": 77,
   "metadata": {},
   "outputs": [],
   "source": [
    "import pandas as pd \n",
    "import scipy.stats as stats\n",
    "\n",
    "# We also want to plot graphs and histograms\n",
    "# using matplotlib\n",
    "import matplotlib.pyplot as plt"
   ]
  },
  {
   "cell_type": "code",
   "execution_count": 78,
   "metadata": {
    "scrolled": true
   },
   "outputs": [],
   "source": [
    "dataConditionA = pd.read_csv('conditionA.csv', header=0, names = ['participant number', 'time going forward', 'time going back', 'mistakes made', 'shortcuts taken', 'times Wandered away from navigational aid', 'time spent away from navigational aid', 'finished'])  #Reading data where the arrow was the navigational aid\n",
    "dataConditionA[\"condition\"] = \"Arrow\""
   ]
  },
  {
   "cell_type": "code",
   "execution_count": 79,
   "metadata": {},
   "outputs": [],
   "source": [
    "dataConditionB = pd.read_csv('conditionB.csv', header=0, names = ['participant number', 'time going forward', 'time going back', 'mistakes made', 'shortcuts taken', 'times Wandered away from navigational aid', 'time spent away from navigational aid', 'finished'])  #Reading data where the arrow was the navigational aid\n",
    "dataConditionB[\"condition\"] = \"NPC\""
   ]
  },
  {
   "cell_type": "code",
   "execution_count": 80,
   "metadata": {
    "scrolled": true
   },
   "outputs": [],
   "source": [
    "timeWanderedPercentage = 0.1\n",
    "def getDataNoWander(conditionData):\n",
    "    finishedCondition = conditionData.loc[conditionData[\"time spent away from navigational aid\"] >= 0]\n",
    "\n",
    "    dataNoWander = pd.DataFrame(data={}, columns=finishedCondition.columns)\n",
    "    iterator = 0\n",
    "    for timeGoingForward in finishedCondition[\"time going forward\"].values:\n",
    "        timeWandering = finishedCondition[\"time spent away from navigational aid\"].values[iterator]\n",
    "        if timeWandering / timeGoingForward < timeWanderedPercentage:\n",
    "            dataNoWander.loc[iterator] = finishedCondition.iloc[iterator]\n",
    "        iterator+=1\n",
    "    return dataNoWander"
   ]
  },
  {
   "cell_type": "code",
   "execution_count": 81,
   "metadata": {},
   "outputs": [],
   "source": [
    "dataNoWanderA = getDataNoWander(dataConditionA)\n",
    "dataNoWanderB = getDataNoWander(dataConditionB)"
   ]
  },
  {
   "cell_type": "code",
   "execution_count": 82,
   "metadata": {
    "scrolled": true
   },
   "outputs": [
    {
     "data": {
      "text/html": [
       "<div>\n",
       "<style scoped>\n",
       "    .dataframe tbody tr th:only-of-type {\n",
       "        vertical-align: middle;\n",
       "    }\n",
       "\n",
       "    .dataframe tbody tr th {\n",
       "        vertical-align: top;\n",
       "    }\n",
       "\n",
       "    .dataframe thead th {\n",
       "        text-align: right;\n",
       "    }\n",
       "</style>\n",
       "<table border=\"1\" class=\"dataframe\">\n",
       "  <thead>\n",
       "    <tr style=\"text-align: right;\">\n",
       "      <th></th>\n",
       "      <th>participant number</th>\n",
       "      <th>time going forward</th>\n",
       "      <th>time going back</th>\n",
       "      <th>mistakes made</th>\n",
       "      <th>shortcuts taken</th>\n",
       "      <th>times Wandered away from navigational aid</th>\n",
       "      <th>time spent away from navigational aid</th>\n",
       "      <th>finished</th>\n",
       "      <th>condition</th>\n",
       "    </tr>\n",
       "  </thead>\n",
       "  <tbody>\n",
       "    <tr>\n",
       "      <td>0</td>\n",
       "      <td>A00</td>\n",
       "      <td>337.88000</td>\n",
       "      <td>274.20000</td>\n",
       "      <td>2</td>\n",
       "      <td>1</td>\n",
       "      <td>0</td>\n",
       "      <td>0.000000</td>\n",
       "      <td>Yes</td>\n",
       "      <td>Arrow</td>\n",
       "    </tr>\n",
       "    <tr>\n",
       "      <td>1</td>\n",
       "      <td>A01</td>\n",
       "      <td>356.92004</td>\n",
       "      <td>612.51996</td>\n",
       "      <td>5</td>\n",
       "      <td>4</td>\n",
       "      <td>1</td>\n",
       "      <td>0.760010</td>\n",
       "      <td>Yes</td>\n",
       "      <td>Arrow</td>\n",
       "    </tr>\n",
       "    <tr>\n",
       "      <td>2</td>\n",
       "      <td>A02</td>\n",
       "      <td>427.00000</td>\n",
       "      <td>393.68000</td>\n",
       "      <td>5</td>\n",
       "      <td>3</td>\n",
       "      <td>5</td>\n",
       "      <td>29.599990</td>\n",
       "      <td>Yes</td>\n",
       "      <td>Arrow</td>\n",
       "    </tr>\n",
       "    <tr>\n",
       "      <td>4</td>\n",
       "      <td>A04</td>\n",
       "      <td>345.00000</td>\n",
       "      <td>416.32000</td>\n",
       "      <td>8</td>\n",
       "      <td>1</td>\n",
       "      <td>1</td>\n",
       "      <td>5.880005</td>\n",
       "      <td>Yes</td>\n",
       "      <td>Arrow</td>\n",
       "    </tr>\n",
       "    <tr>\n",
       "      <td>5</td>\n",
       "      <td>A06</td>\n",
       "      <td>405.36000</td>\n",
       "      <td>981.28000</td>\n",
       "      <td>9</td>\n",
       "      <td>4</td>\n",
       "      <td>3</td>\n",
       "      <td>18.559998</td>\n",
       "      <td>Yes</td>\n",
       "      <td>Arrow</td>\n",
       "    </tr>\n",
       "    <tr>\n",
       "      <td>6</td>\n",
       "      <td>A08</td>\n",
       "      <td>357.88000</td>\n",
       "      <td>384.44003</td>\n",
       "      <td>5</td>\n",
       "      <td>3</td>\n",
       "      <td>0</td>\n",
       "      <td>0.000000</td>\n",
       "      <td>Yes</td>\n",
       "      <td>Arrow</td>\n",
       "    </tr>\n",
       "    <tr>\n",
       "      <td>7</td>\n",
       "      <td>A11</td>\n",
       "      <td>447.92000</td>\n",
       "      <td>338.36000</td>\n",
       "      <td>3</td>\n",
       "      <td>3</td>\n",
       "      <td>1</td>\n",
       "      <td>1.240021</td>\n",
       "      <td>Yes</td>\n",
       "      <td>Arrow</td>\n",
       "    </tr>\n",
       "    <tr>\n",
       "      <td>9</td>\n",
       "      <td>A13</td>\n",
       "      <td>357.84000</td>\n",
       "      <td>385.16000</td>\n",
       "      <td>5</td>\n",
       "      <td>3</td>\n",
       "      <td>0</td>\n",
       "      <td>0.000000</td>\n",
       "      <td>Yes</td>\n",
       "      <td>Arrow</td>\n",
       "    </tr>\n",
       "    <tr>\n",
       "      <td>10</td>\n",
       "      <td>A15</td>\n",
       "      <td>308.04000</td>\n",
       "      <td>498.96000</td>\n",
       "      <td>8</td>\n",
       "      <td>4</td>\n",
       "      <td>1</td>\n",
       "      <td>0.600006</td>\n",
       "      <td>Yes</td>\n",
       "      <td>Arrow</td>\n",
       "    </tr>\n",
       "    <tr>\n",
       "      <td>12</td>\n",
       "      <td>A20</td>\n",
       "      <td>412.84000</td>\n",
       "      <td>563.07996</td>\n",
       "      <td>6</td>\n",
       "      <td>4</td>\n",
       "      <td>2</td>\n",
       "      <td>15.359955</td>\n",
       "      <td>Yes</td>\n",
       "      <td>Arrow</td>\n",
       "    </tr>\n",
       "    <tr>\n",
       "      <td>13</td>\n",
       "      <td>A21</td>\n",
       "      <td>332.36000</td>\n",
       "      <td>548.44006</td>\n",
       "      <td>5</td>\n",
       "      <td>3</td>\n",
       "      <td>1</td>\n",
       "      <td>0.079987</td>\n",
       "      <td>Yes</td>\n",
       "      <td>Arrow</td>\n",
       "    </tr>\n",
       "    <tr>\n",
       "      <td>14</td>\n",
       "      <td>A22</td>\n",
       "      <td>372.76000</td>\n",
       "      <td>370.47998</td>\n",
       "      <td>5</td>\n",
       "      <td>4</td>\n",
       "      <td>3</td>\n",
       "      <td>18.320026</td>\n",
       "      <td>Yes</td>\n",
       "      <td>Arrow</td>\n",
       "    </tr>\n",
       "    <tr>\n",
       "      <td>15</td>\n",
       "      <td>A23</td>\n",
       "      <td>366.63998</td>\n",
       "      <td>374.88004</td>\n",
       "      <td>6</td>\n",
       "      <td>0</td>\n",
       "      <td>0</td>\n",
       "      <td>0.000000</td>\n",
       "      <td>Yes</td>\n",
       "      <td>Arrow</td>\n",
       "    </tr>\n",
       "    <tr>\n",
       "      <td>19</td>\n",
       "      <td>A27</td>\n",
       "      <td>367.47998</td>\n",
       "      <td>742.68010</td>\n",
       "      <td>9</td>\n",
       "      <td>4</td>\n",
       "      <td>0</td>\n",
       "      <td>0.000000</td>\n",
       "      <td>Yes</td>\n",
       "      <td>Arrow</td>\n",
       "    </tr>\n",
       "    <tr>\n",
       "      <td>20</td>\n",
       "      <td>A29</td>\n",
       "      <td>332.12000</td>\n",
       "      <td>325.72003</td>\n",
       "      <td>4</td>\n",
       "      <td>2</td>\n",
       "      <td>0</td>\n",
       "      <td>0.000000</td>\n",
       "      <td>Yes</td>\n",
       "      <td>Arrow</td>\n",
       "    </tr>\n",
       "    <tr>\n",
       "      <td>22</td>\n",
       "      <td>A32</td>\n",
       "      <td>355.72000</td>\n",
       "      <td>327.43997</td>\n",
       "      <td>4</td>\n",
       "      <td>2</td>\n",
       "      <td>0</td>\n",
       "      <td>0.000000</td>\n",
       "      <td>Yes</td>\n",
       "      <td>Arrow</td>\n",
       "    </tr>\n",
       "    <tr>\n",
       "      <td>27</td>\n",
       "      <td>A37</td>\n",
       "      <td>610.16000</td>\n",
       "      <td>427.96014</td>\n",
       "      <td>6</td>\n",
       "      <td>2</td>\n",
       "      <td>5</td>\n",
       "      <td>39.359985</td>\n",
       "      <td>Yes</td>\n",
       "      <td>Arrow</td>\n",
       "    </tr>\n",
       "    <tr>\n",
       "      <td>28</td>\n",
       "      <td>A38</td>\n",
       "      <td>302.40000</td>\n",
       "      <td>314.36002</td>\n",
       "      <td>4</td>\n",
       "      <td>2</td>\n",
       "      <td>0</td>\n",
       "      <td>0.000000</td>\n",
       "      <td>Yes</td>\n",
       "      <td>Arrow</td>\n",
       "    </tr>\n",
       "    <tr>\n",
       "      <td>29</td>\n",
       "      <td>A39</td>\n",
       "      <td>386.24000</td>\n",
       "      <td>216.23999</td>\n",
       "      <td>4</td>\n",
       "      <td>3</td>\n",
       "      <td>4</td>\n",
       "      <td>29.959984</td>\n",
       "      <td>Yes</td>\n",
       "      <td>Arrow</td>\n",
       "    </tr>\n",
       "    <tr>\n",
       "      <td>30</td>\n",
       "      <td>A41</td>\n",
       "      <td>404.32000</td>\n",
       "      <td>264.32000</td>\n",
       "      <td>4</td>\n",
       "      <td>1</td>\n",
       "      <td>2</td>\n",
       "      <td>24.440002</td>\n",
       "      <td>Yes</td>\n",
       "      <td>Arrow</td>\n",
       "    </tr>\n",
       "    <tr>\n",
       "      <td>32</td>\n",
       "      <td>A45</td>\n",
       "      <td>316.52000</td>\n",
       "      <td>462.92000</td>\n",
       "      <td>5</td>\n",
       "      <td>2</td>\n",
       "      <td>0</td>\n",
       "      <td>0.000000</td>\n",
       "      <td>Yes</td>\n",
       "      <td>Arrow</td>\n",
       "    </tr>\n",
       "    <tr>\n",
       "      <td>34</td>\n",
       "      <td>A48</td>\n",
       "      <td>430.88000</td>\n",
       "      <td>574.88010</td>\n",
       "      <td>5</td>\n",
       "      <td>4</td>\n",
       "      <td>1</td>\n",
       "      <td>12.239990</td>\n",
       "      <td>Yes</td>\n",
       "      <td>Arrow</td>\n",
       "    </tr>\n",
       "    <tr>\n",
       "      <td>35</td>\n",
       "      <td>A51</td>\n",
       "      <td>357.48000</td>\n",
       "      <td>215.35999</td>\n",
       "      <td>1</td>\n",
       "      <td>3</td>\n",
       "      <td>3</td>\n",
       "      <td>7.839996</td>\n",
       "      <td>Yes</td>\n",
       "      <td>Arrow</td>\n",
       "    </tr>\n",
       "  </tbody>\n",
       "</table>\n",
       "</div>"
      ],
      "text/plain": [
       "   participant number  time going forward  time going back mistakes made  \\\n",
       "0                 A00           337.88000        274.20000             2   \n",
       "1                 A01           356.92004        612.51996             5   \n",
       "2                 A02           427.00000        393.68000             5   \n",
       "4                 A04           345.00000        416.32000             8   \n",
       "5                 A06           405.36000        981.28000             9   \n",
       "6                 A08           357.88000        384.44003             5   \n",
       "7                 A11           447.92000        338.36000             3   \n",
       "9                 A13           357.84000        385.16000             5   \n",
       "10                A15           308.04000        498.96000             8   \n",
       "12                A20           412.84000        563.07996             6   \n",
       "13                A21           332.36000        548.44006             5   \n",
       "14                A22           372.76000        370.47998             5   \n",
       "15                A23           366.63998        374.88004             6   \n",
       "19                A27           367.47998        742.68010             9   \n",
       "20                A29           332.12000        325.72003             4   \n",
       "22                A32           355.72000        327.43997             4   \n",
       "27                A37           610.16000        427.96014             6   \n",
       "28                A38           302.40000        314.36002             4   \n",
       "29                A39           386.24000        216.23999             4   \n",
       "30                A41           404.32000        264.32000             4   \n",
       "32                A45           316.52000        462.92000             5   \n",
       "34                A48           430.88000        574.88010             5   \n",
       "35                A51           357.48000        215.35999             1   \n",
       "\n",
       "   shortcuts taken times Wandered away from navigational aid  \\\n",
       "0                1                                         0   \n",
       "1                4                                         1   \n",
       "2                3                                         5   \n",
       "4                1                                         1   \n",
       "5                4                                         3   \n",
       "6                3                                         0   \n",
       "7                3                                         1   \n",
       "9                3                                         0   \n",
       "10               4                                         1   \n",
       "12               4                                         2   \n",
       "13               3                                         1   \n",
       "14               4                                         3   \n",
       "15               0                                         0   \n",
       "19               4                                         0   \n",
       "20               2                                         0   \n",
       "22               2                                         0   \n",
       "27               2                                         5   \n",
       "28               2                                         0   \n",
       "29               3                                         4   \n",
       "30               1                                         2   \n",
       "32               2                                         0   \n",
       "34               4                                         1   \n",
       "35               3                                         3   \n",
       "\n",
       "    time spent away from navigational aid finished condition  \n",
       "0                                0.000000      Yes     Arrow  \n",
       "1                                0.760010      Yes     Arrow  \n",
       "2                               29.599990      Yes     Arrow  \n",
       "4                                5.880005      Yes     Arrow  \n",
       "5                               18.559998      Yes     Arrow  \n",
       "6                                0.000000      Yes     Arrow  \n",
       "7                                1.240021      Yes     Arrow  \n",
       "9                                0.000000      Yes     Arrow  \n",
       "10                               0.600006      Yes     Arrow  \n",
       "12                              15.359955      Yes     Arrow  \n",
       "13                               0.079987      Yes     Arrow  \n",
       "14                              18.320026      Yes     Arrow  \n",
       "15                               0.000000      Yes     Arrow  \n",
       "19                               0.000000      Yes     Arrow  \n",
       "20                               0.000000      Yes     Arrow  \n",
       "22                               0.000000      Yes     Arrow  \n",
       "27                              39.359985      Yes     Arrow  \n",
       "28                               0.000000      Yes     Arrow  \n",
       "29                              29.959984      Yes     Arrow  \n",
       "30                              24.440002      Yes     Arrow  \n",
       "32                               0.000000      Yes     Arrow  \n",
       "34                              12.239990      Yes     Arrow  \n",
       "35                               7.839996      Yes     Arrow  "
      ]
     },
     "execution_count": 82,
     "metadata": {},
     "output_type": "execute_result"
    }
   ],
   "source": [
    "dataNoWanderA"
   ]
  },
  {
   "cell_type": "code",
   "execution_count": 83,
   "metadata": {
    "scrolled": true
   },
   "outputs": [
    {
     "data": {
      "text/html": [
       "<div>\n",
       "<style scoped>\n",
       "    .dataframe tbody tr th:only-of-type {\n",
       "        vertical-align: middle;\n",
       "    }\n",
       "\n",
       "    .dataframe tbody tr th {\n",
       "        vertical-align: top;\n",
       "    }\n",
       "\n",
       "    .dataframe thead th {\n",
       "        text-align: right;\n",
       "    }\n",
       "</style>\n",
       "<table border=\"1\" class=\"dataframe\">\n",
       "  <thead>\n",
       "    <tr style=\"text-align: right;\">\n",
       "      <th></th>\n",
       "      <th>participant number</th>\n",
       "      <th>time going forward</th>\n",
       "      <th>time going back</th>\n",
       "      <th>mistakes made</th>\n",
       "      <th>shortcuts taken</th>\n",
       "      <th>times Wandered away from navigational aid</th>\n",
       "      <th>time spent away from navigational aid</th>\n",
       "      <th>finished</th>\n",
       "      <th>condition</th>\n",
       "    </tr>\n",
       "  </thead>\n",
       "  <tbody>\n",
       "    <tr>\n",
       "      <td>0</td>\n",
       "      <td>B00</td>\n",
       "      <td>352.03998</td>\n",
       "      <td>257.64008</td>\n",
       "      <td>3</td>\n",
       "      <td>4</td>\n",
       "      <td>1</td>\n",
       "      <td>15.720001</td>\n",
       "      <td>Yes</td>\n",
       "      <td>NPC</td>\n",
       "    </tr>\n",
       "    <tr>\n",
       "      <td>2</td>\n",
       "      <td>B03</td>\n",
       "      <td>353.68000</td>\n",
       "      <td>349.56000</td>\n",
       "      <td>6</td>\n",
       "      <td>2</td>\n",
       "      <td>1</td>\n",
       "      <td>0.040009</td>\n",
       "      <td>Yes</td>\n",
       "      <td>NPC</td>\n",
       "    </tr>\n",
       "    <tr>\n",
       "      <td>3</td>\n",
       "      <td>B04</td>\n",
       "      <td>336.40000</td>\n",
       "      <td>277.56003</td>\n",
       "      <td>1</td>\n",
       "      <td>1</td>\n",
       "      <td>3</td>\n",
       "      <td>4.839996</td>\n",
       "      <td>Yes</td>\n",
       "      <td>NPC</td>\n",
       "    </tr>\n",
       "    <tr>\n",
       "      <td>7</td>\n",
       "      <td>B09</td>\n",
       "      <td>316.08002</td>\n",
       "      <td>410.07996</td>\n",
       "      <td>5</td>\n",
       "      <td>3</td>\n",
       "      <td>0</td>\n",
       "      <td>0.000000</td>\n",
       "      <td>Yes</td>\n",
       "      <td>NPC</td>\n",
       "    </tr>\n",
       "    <tr>\n",
       "      <td>9</td>\n",
       "      <td>B12</td>\n",
       "      <td>315.52000</td>\n",
       "      <td>1318.36010</td>\n",
       "      <td>12</td>\n",
       "      <td>4</td>\n",
       "      <td>0</td>\n",
       "      <td>0.000000</td>\n",
       "      <td>Yes</td>\n",
       "      <td>NPC</td>\n",
       "    </tr>\n",
       "    <tr>\n",
       "      <td>10</td>\n",
       "      <td>B13</td>\n",
       "      <td>316.40000</td>\n",
       "      <td>492.32004</td>\n",
       "      <td>7</td>\n",
       "      <td>2</td>\n",
       "      <td>0</td>\n",
       "      <td>0.000000</td>\n",
       "      <td>Yes</td>\n",
       "      <td>NPC</td>\n",
       "    </tr>\n",
       "    <tr>\n",
       "      <td>11</td>\n",
       "      <td>B14-1</td>\n",
       "      <td>363.24000</td>\n",
       "      <td>342.12000</td>\n",
       "      <td>5</td>\n",
       "      <td>1</td>\n",
       "      <td>4</td>\n",
       "      <td>8.240021</td>\n",
       "      <td>Yes</td>\n",
       "      <td>NPC</td>\n",
       "    </tr>\n",
       "    <tr>\n",
       "      <td>12</td>\n",
       "      <td>B16</td>\n",
       "      <td>330.88000</td>\n",
       "      <td>352.52002</td>\n",
       "      <td>4</td>\n",
       "      <td>4</td>\n",
       "      <td>0</td>\n",
       "      <td>0.000000</td>\n",
       "      <td>Yes</td>\n",
       "      <td>NPC</td>\n",
       "    </tr>\n",
       "    <tr>\n",
       "      <td>14</td>\n",
       "      <td>B20</td>\n",
       "      <td>296.91998</td>\n",
       "      <td>449.36002</td>\n",
       "      <td>4</td>\n",
       "      <td>4</td>\n",
       "      <td>0</td>\n",
       "      <td>0.000000</td>\n",
       "      <td>Yes</td>\n",
       "      <td>NPC</td>\n",
       "    </tr>\n",
       "    <tr>\n",
       "      <td>16</td>\n",
       "      <td>B22</td>\n",
       "      <td>419.16000</td>\n",
       "      <td>336.68002</td>\n",
       "      <td>6</td>\n",
       "      <td>1</td>\n",
       "      <td>11</td>\n",
       "      <td>28.160007</td>\n",
       "      <td>Yes</td>\n",
       "      <td>NPC</td>\n",
       "    </tr>\n",
       "    <tr>\n",
       "      <td>17</td>\n",
       "      <td>B23</td>\n",
       "      <td>296.24000</td>\n",
       "      <td>883.40010</td>\n",
       "      <td>8</td>\n",
       "      <td>4</td>\n",
       "      <td>0</td>\n",
       "      <td>0.000000</td>\n",
       "      <td>Yes</td>\n",
       "      <td>NPC</td>\n",
       "    </tr>\n",
       "    <tr>\n",
       "      <td>19</td>\n",
       "      <td>B26</td>\n",
       "      <td>284.68000</td>\n",
       "      <td>320.95996</td>\n",
       "      <td>5</td>\n",
       "      <td>0</td>\n",
       "      <td>0</td>\n",
       "      <td>0.000000</td>\n",
       "      <td>Yes</td>\n",
       "      <td>NPC</td>\n",
       "    </tr>\n",
       "    <tr>\n",
       "      <td>20</td>\n",
       "      <td>B29</td>\n",
       "      <td>318.60000</td>\n",
       "      <td>372.75998</td>\n",
       "      <td>6</td>\n",
       "      <td>3</td>\n",
       "      <td>0</td>\n",
       "      <td>0.000000</td>\n",
       "      <td>Yes</td>\n",
       "      <td>NPC</td>\n",
       "    </tr>\n",
       "    <tr>\n",
       "      <td>26</td>\n",
       "      <td>B43</td>\n",
       "      <td>314.60000</td>\n",
       "      <td>475.55997</td>\n",
       "      <td>5</td>\n",
       "      <td>2</td>\n",
       "      <td>0</td>\n",
       "      <td>0.000000</td>\n",
       "      <td>Yes</td>\n",
       "      <td>NPC</td>\n",
       "    </tr>\n",
       "    <tr>\n",
       "      <td>27</td>\n",
       "      <td>B46</td>\n",
       "      <td>340.52000</td>\n",
       "      <td>312.96000</td>\n",
       "      <td>3</td>\n",
       "      <td>1</td>\n",
       "      <td>0</td>\n",
       "      <td>0.000000</td>\n",
       "      <td>Yes</td>\n",
       "      <td>NPC</td>\n",
       "    </tr>\n",
       "    <tr>\n",
       "      <td>28</td>\n",
       "      <td>B48</td>\n",
       "      <td>297.04000</td>\n",
       "      <td>395.75998</td>\n",
       "      <td>2</td>\n",
       "      <td>2</td>\n",
       "      <td>0</td>\n",
       "      <td>0.000000</td>\n",
       "      <td>Yes</td>\n",
       "      <td>NPC</td>\n",
       "    </tr>\n",
       "    <tr>\n",
       "      <td>29</td>\n",
       "      <td>B49</td>\n",
       "      <td>293.60000</td>\n",
       "      <td>494.08000</td>\n",
       "      <td>6</td>\n",
       "      <td>3</td>\n",
       "      <td>0</td>\n",
       "      <td>0.000000</td>\n",
       "      <td>Yes</td>\n",
       "      <td>NPC</td>\n",
       "    </tr>\n",
       "    <tr>\n",
       "      <td>31</td>\n",
       "      <td>B51</td>\n",
       "      <td>343.56000</td>\n",
       "      <td>346.47998</td>\n",
       "      <td>3</td>\n",
       "      <td>3</td>\n",
       "      <td>1</td>\n",
       "      <td>5.519997</td>\n",
       "      <td>Yes</td>\n",
       "      <td>NPC</td>\n",
       "    </tr>\n",
       "    <tr>\n",
       "      <td>35</td>\n",
       "      <td>B62</td>\n",
       "      <td>539.00000</td>\n",
       "      <td>371.76000</td>\n",
       "      <td>5</td>\n",
       "      <td>2</td>\n",
       "      <td>1</td>\n",
       "      <td>3.440002</td>\n",
       "      <td>Yes</td>\n",
       "      <td>NPC</td>\n",
       "    </tr>\n",
       "    <tr>\n",
       "      <td>36</td>\n",
       "      <td>B63</td>\n",
       "      <td>295.08002</td>\n",
       "      <td>350.88000</td>\n",
       "      <td>6</td>\n",
       "      <td>1</td>\n",
       "      <td>0</td>\n",
       "      <td>0.000000</td>\n",
       "      <td>Yes</td>\n",
       "      <td>NPC</td>\n",
       "    </tr>\n",
       "    <tr>\n",
       "      <td>38</td>\n",
       "      <td>B66</td>\n",
       "      <td>333.72000</td>\n",
       "      <td>273.00000</td>\n",
       "      <td>5</td>\n",
       "      <td>2</td>\n",
       "      <td>2</td>\n",
       "      <td>3.680023</td>\n",
       "      <td>Yes</td>\n",
       "      <td>NPC</td>\n",
       "    </tr>\n",
       "  </tbody>\n",
       "</table>\n",
       "</div>"
      ],
      "text/plain": [
       "   participant number  time going forward  time going back mistakes made  \\\n",
       "0                 B00           352.03998        257.64008             3   \n",
       "2                 B03           353.68000        349.56000             6   \n",
       "3                 B04           336.40000        277.56003             1   \n",
       "7                 B09           316.08002        410.07996             5   \n",
       "9                 B12           315.52000       1318.36010            12   \n",
       "10                B13           316.40000        492.32004             7   \n",
       "11              B14-1           363.24000        342.12000             5   \n",
       "12                B16           330.88000        352.52002             4   \n",
       "14                B20           296.91998        449.36002             4   \n",
       "16                B22           419.16000        336.68002             6   \n",
       "17                B23           296.24000        883.40010             8   \n",
       "19                B26           284.68000        320.95996             5   \n",
       "20                B29           318.60000        372.75998             6   \n",
       "26                B43           314.60000        475.55997             5   \n",
       "27                B46           340.52000        312.96000             3   \n",
       "28                B48           297.04000        395.75998             2   \n",
       "29                B49           293.60000        494.08000             6   \n",
       "31                B51           343.56000        346.47998             3   \n",
       "35                B62           539.00000        371.76000             5   \n",
       "36                B63           295.08002        350.88000             6   \n",
       "38                B66           333.72000        273.00000             5   \n",
       "\n",
       "   shortcuts taken times Wandered away from navigational aid  \\\n",
       "0                4                                         1   \n",
       "2                2                                         1   \n",
       "3                1                                         3   \n",
       "7                3                                         0   \n",
       "9                4                                         0   \n",
       "10               2                                         0   \n",
       "11               1                                         4   \n",
       "12               4                                         0   \n",
       "14               4                                         0   \n",
       "16               1                                        11   \n",
       "17               4                                         0   \n",
       "19               0                                         0   \n",
       "20               3                                         0   \n",
       "26               2                                         0   \n",
       "27               1                                         0   \n",
       "28               2                                         0   \n",
       "29               3                                         0   \n",
       "31               3                                         1   \n",
       "35               2                                         1   \n",
       "36               1                                         0   \n",
       "38               2                                         2   \n",
       "\n",
       "    time spent away from navigational aid finished condition  \n",
       "0                               15.720001      Yes       NPC  \n",
       "2                                0.040009      Yes       NPC  \n",
       "3                                4.839996      Yes       NPC  \n",
       "7                                0.000000      Yes       NPC  \n",
       "9                                0.000000      Yes       NPC  \n",
       "10                               0.000000      Yes       NPC  \n",
       "11                               8.240021      Yes       NPC  \n",
       "12                               0.000000      Yes       NPC  \n",
       "14                               0.000000      Yes       NPC  \n",
       "16                              28.160007      Yes       NPC  \n",
       "17                               0.000000      Yes       NPC  \n",
       "19                               0.000000      Yes       NPC  \n",
       "20                               0.000000      Yes       NPC  \n",
       "26                               0.000000      Yes       NPC  \n",
       "27                               0.000000      Yes       NPC  \n",
       "28                               0.000000      Yes       NPC  \n",
       "29                               0.000000      Yes       NPC  \n",
       "31                               5.519997      Yes       NPC  \n",
       "35                               3.440002      Yes       NPC  \n",
       "36                               0.000000      Yes       NPC  \n",
       "38                               3.680023      Yes       NPC  "
      ]
     },
     "execution_count": 83,
     "metadata": {},
     "output_type": "execute_result"
    }
   ],
   "source": [
    "dataNoWanderB"
   ]
  },
  {
   "cell_type": "code",
   "execution_count": 60,
   "metadata": {
    "scrolled": true
   },
   "outputs": [
    {
     "data": {
      "text/plain": [
       "23"
      ]
     },
     "execution_count": 60,
     "metadata": {},
     "output_type": "execute_result"
    }
   ],
   "source": [
    "dataNoWanderA.index.size"
   ]
  },
  {
   "cell_type": "code",
   "execution_count": 61,
   "metadata": {
    "scrolled": true
   },
   "outputs": [
    {
     "data": {
      "text/plain": [
       "21"
      ]
     },
     "execution_count": 61,
     "metadata": {},
     "output_type": "execute_result"
    }
   ],
   "source": [
    "dataNoWanderB.index.size"
   ]
  },
  {
   "cell_type": "markdown",
   "metadata": {},
   "source": [
    "## T-test"
   ]
  },
  {
   "cell_type": "markdown",
   "metadata": {},
   "source": [
    "#### Precautions before doing t-test"
   ]
  },
  {
   "cell_type": "code",
   "execution_count": 62,
   "metadata": {},
   "outputs": [
    {
     "data": {
      "text/plain": [
       "(0.9773516058921814, 0.856484591960907)"
      ]
     },
     "execution_count": 62,
     "metadata": {},
     "output_type": "execute_result"
    }
   ],
   "source": [
    "import numpy\n",
    "arrowTime = dataNoWanderA.loc[dataNoWanderA[\"condition\"] == \"Arrow\", 'time going back']\n",
    "arrowTime = numpy.log(arrowTime)\n",
    "stats.shapiro(arrowTime)"
   ]
  },
  {
   "cell_type": "code",
   "execution_count": 63,
   "metadata": {},
   "outputs": [
    {
     "data": {
      "text/plain": [
       "(0.7994133830070496, 0.0006426608306355774)"
      ]
     },
     "execution_count": 63,
     "metadata": {},
     "output_type": "execute_result"
    }
   ],
   "source": [
    "npcTime = dataNoWanderB.loc[dataNoWanderB[\"condition\"] == \"NPC\", 'time going back']\n",
    "npcTime = numpy.log(npcTime)\n",
    "stats.shapiro(npcTime)"
   ]
  },
  {
   "cell_type": "code",
   "execution_count": 64,
   "metadata": {},
   "outputs": [
    {
     "data": {
      "text/plain": [
       "(0.9249818921089172, 0.08523423224687576)"
      ]
     },
     "execution_count": 64,
     "metadata": {},
     "output_type": "execute_result"
    }
   ],
   "source": [
    "arrowMistakes = dataNoWanderA.loc[dataNoWanderA[\"condition\"] == \"Arrow\", 'mistakes made']\n",
    "stats.shapiro(arrowMistakes)"
   ]
  },
  {
   "cell_type": "code",
   "execution_count": 88,
   "metadata": {},
   "outputs": [
    {
     "data": {
      "text/plain": [
       "(0.906613290309906, 0.047096770256757736)"
      ]
     },
     "execution_count": 88,
     "metadata": {},
     "output_type": "execute_result"
    }
   ],
   "source": [
    "npcMistakes = dataNoWanderB.loc[dataNoWanderB[\"condition\"] == \"NPC\", 'mistakes made']\n",
    "stats.shapiro(npcMistakes)"
   ]
  },
  {
   "cell_type": "code",
   "execution_count": 89,
   "metadata": {},
   "outputs": [
    {
     "data": {
      "text/plain": [
       "LeveneResult(statistic=0.265709186913468, pvalue=0.6089275184689078)"
      ]
     },
     "execution_count": 89,
     "metadata": {},
     "output_type": "execute_result"
    }
   ],
   "source": [
    "stats.levene(arrowTime, npcTime)"
   ]
  },
  {
   "cell_type": "code",
   "execution_count": 67,
   "metadata": {},
   "outputs": [
    {
     "data": {
      "text/plain": [
       "LeveneResult(statistic=0.1393644850885281, pvalue=0.7107913095589564)"
      ]
     },
     "execution_count": 67,
     "metadata": {},
     "output_type": "execute_result"
    }
   ],
   "source": [
    "stats.levene(arrowMistakes, npcMistakes)"
   ]
  },
  {
   "cell_type": "code",
   "execution_count": 68,
   "metadata": {},
   "outputs": [
    {
     "data": {
      "image/png": "[encoded data removed]",
      "text/plain": [
       "<Figure size 432x288 with 1 Axes>"
      ]
     },
     "metadata": {
      "needs_background": "light"
     },
     "output_type": "display_data"
    }
   ],
   "source": [
    "stats.probplot(arrowTime, plot = plt)\n",
    "plt.show()"
   ]
  },
  {
   "cell_type": "code",
   "execution_count": 69,
   "metadata": {},
   "outputs": [
    {
     "data": {
      "image/png": "[encoded data removed]",
      "text/plain": [
       "<Figure size 432x288 with 1 Axes>"
      ]
     },
     "metadata": {
      "needs_background": "light"
     },
     "output_type": "display_data"
    }
   ],
   "source": [
    "stats.probplot(npcTime, plot = plt)\n",
    "plt.show()"
   ]
  },
  {
   "cell_type": "markdown",
   "metadata": {},
   "source": [
    "#### Comparing times to go back"
   ]
  },
  {
   "cell_type": "code",
   "execution_count": 70,
   "metadata": {},
   "outputs": [
    {
     "data": {
      "text/plain": [
       "Ttest_indResult(statistic=0.11923933452961098, pvalue=0.9056542689693312)"
      ]
     },
     "execution_count": 70,
     "metadata": {},
     "output_type": "execute_result"
    }
   ],
   "source": [
    "stats.ttest_ind(arrowTime, npcTime)"
   ]
  },
  {
   "cell_type": "markdown",
   "metadata": {},
   "source": [
    "#### Comparing mistakes made"
   ]
  },
  {
   "cell_type": "code",
   "execution_count": 71,
   "metadata": {},
   "outputs": [
    {
     "data": {
      "text/plain": [
       "Ttest_indResult(statistic=0.05448168954937816, pvalue=0.9568097347886892)"
      ]
     },
     "execution_count": 71,
     "metadata": {},
     "output_type": "execute_result"
    }
   ],
   "source": [
    "stats.ttest_ind(arrowMistakes, npcMistakes)"
   ]
  },
  {
   "cell_type": "code",
   "execution_count": null,
   "metadata": {},
   "outputs": [],
   "source": []
  }
 ],
 "metadata": {
  "kernelspec": {
   "display_name": "Python 3",
   "language": "python",
   "name": "python3"
  },
  "language_info": {
   "codemirror_mode": {
    "name": "ipython",
    "version": 3
   },
   "file_extension": ".py",
   "mimetype": "text/x-python",
   "name": "python",
   "nbconvert_exporter": "python",
   "pygments_lexer": "ipython3",
   "version": "3.7.4"
  }
 },
 "nbformat": 4,
 "nbformat_minor": 4
}
