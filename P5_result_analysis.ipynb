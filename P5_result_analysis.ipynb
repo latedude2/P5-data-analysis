{
 "cells": [
  {
   "cell_type": "markdown",
   "metadata": {},
   "source": [
    "### Read data"
   ]
  },
  {
   "cell_type": "code",
   "execution_count": 9,
   "metadata": {
    "scrolled": true
   },
   "outputs": [],
   "source": [
    "import pandas as pd \n",
    "import scipy.stats as stats\n",
    "import seaborn as sns\n",
    "\n",
    "# We also want to plot graphs and histograms\n",
    "# using matplotlib\n",
    "import matplotlib.pyplot as plt\n",
    "\n",
    "dataCondition1 = pd.read_csv('condition1.csv')  #Reading data where the arrow was the navigational aid\n",
    "dataCondition1\n",
    "dataCondition1[\"Condition\"] = \"Arrow\"\n"
   ]
  },
  {
   "cell_type": "code",
   "execution_count": 10,
   "metadata": {},
   "outputs": [],
   "source": [
    "dataCondition2 = pd.read_csv('condition2.csv')  #Reading data where NPC was the navigational aid\n",
    "dataCondition2\n",
    "dataCondition2[\"Condition\"] = \"NPC\""
   ]
  },
  {
   "cell_type": "code",
   "execution_count": 11,
   "metadata": {},
   "outputs": [
    {
     "data": {
      "text/html": [
       "<div>\n",
       "<style scoped>\n",
       "    .dataframe tbody tr th:only-of-type {\n",
       "        vertical-align: middle;\n",
       "    }\n",
       "\n",
       "    .dataframe tbody tr th {\n",
       "        vertical-align: top;\n",
       "    }\n",
       "\n",
       "    .dataframe thead th {\n",
       "        text-align: right;\n",
       "    }\n",
       "</style>\n",
       "<table border=\"1\" class=\"dataframe\">\n",
       "  <thead>\n",
       "    <tr style=\"text-align: right;\">\n",
       "      <th></th>\n",
       "      <th>participant number</th>\n",
       "      <th>time going to forward</th>\n",
       "      <th>time going back</th>\n",
       "      <th>mistakes made</th>\n",
       "      <th>shortcuts taken</th>\n",
       "      <th>Condition</th>\n",
       "    </tr>\n",
       "  </thead>\n",
       "  <tbody>\n",
       "    <tr>\n",
       "      <th>0</th>\n",
       "      <td>test</td>\n",
       "      <td>304.46</td>\n",
       "      <td>322.920000</td>\n",
       "      <td>1</td>\n",
       "      <td>0</td>\n",
       "      <td>Arrow</td>\n",
       "    </tr>\n",
       "    <tr>\n",
       "      <th>1</th>\n",
       "      <td>test</td>\n",
       "      <td>124.58</td>\n",
       "      <td>73.560000</td>\n",
       "      <td>0</td>\n",
       "      <td>3</td>\n",
       "      <td>NPC</td>\n",
       "    </tr>\n",
       "    <tr>\n",
       "      <th>2</th>\n",
       "      <td>test2</td>\n",
       "      <td>169.02</td>\n",
       "      <td>111.759995</td>\n",
       "      <td>2</td>\n",
       "      <td>4</td>\n",
       "      <td>NPC</td>\n",
       "    </tr>\n",
       "  </tbody>\n",
       "</table>\n",
       "</div>"
      ],
      "text/plain": [
       "  participant number   time going to forward   time going back  \\\n",
       "0               test                  304.46        322.920000   \n",
       "1               test                  124.58         73.560000   \n",
       "2              test2                  169.02        111.759995   \n",
       "\n",
       "    mistakes made   shortcuts taken Condition  \n",
       "0               1                 0     Arrow  \n",
       "1               0                 3       NPC  \n",
       "2               2                 4       NPC  "
      ]
     },
     "execution_count": 11,
     "metadata": {},
     "output_type": "execute_result"
    }
   ],
   "source": [
    "data = pd.concat([dataCondition1, dataCondition2]).reset_index(drop = True)\n",
    "data.head(60)"
   ]
  },
  {
   "cell_type": "code",
   "execution_count": null,
   "metadata": {},
   "outputs": [],
   "source": []
  },
  {
   "cell_type": "markdown",
   "metadata": {},
   "source": [
    "### Looking at the data"
   ]
  },
  {
   "cell_type": "code",
   "execution_count": 31,
   "metadata": {},
   "outputs": [
    {
     "name": "stdout",
     "output_type": "stream",
     "text": [
      "12\n",
      "22\n"
     ]
    },
    {
     "data": {
      "text/html": [
       "<div>\n",
       "<style scoped>\n",
       "    .dataframe tbody tr th:only-of-type {\n",
       "        vertical-align: middle;\n",
       "    }\n",
       "\n",
       "    .dataframe tbody tr th {\n",
       "        vertical-align: top;\n",
       "    }\n",
       "\n",
       "    .dataframe thead th {\n",
       "        text-align: right;\n",
       "    }\n",
       "</style>\n",
       "<table border=\"1\" class=\"dataframe\">\n",
       "  <thead>\n",
       "    <tr style=\"text-align: right;\">\n",
       "      <th></th>\n",
       "      <th>Q1</th>\n",
       "      <th>Q2</th>\n",
       "      <th>Q3</th>\n",
       "      <th>Q4</th>\n",
       "      <th>Q5</th>\n",
       "      <th>Q6</th>\n",
       "      <th>Condition</th>\n",
       "      <th>Score</th>\n",
       "      <th>Gender</th>\n",
       "      <th>Age</th>\n",
       "    </tr>\n",
       "  </thead>\n",
       "  <tbody>\n",
       "    <tr>\n",
       "      <th>0</th>\n",
       "      <td>1</td>\n",
       "      <td>1</td>\n",
       "      <td>2</td>\n",
       "      <td>1</td>\n",
       "      <td>1</td>\n",
       "      <td>1</td>\n",
       "      <td>Control</td>\n",
       "      <td>1.166667</td>\n",
       "      <td>Female</td>\n",
       "      <td>31</td>\n",
       "    </tr>\n",
       "    <tr>\n",
       "      <th>1</th>\n",
       "      <td>2</td>\n",
       "      <td>4</td>\n",
       "      <td>6</td>\n",
       "      <td>5</td>\n",
       "      <td>1</td>\n",
       "      <td>3</td>\n",
       "      <td>Control</td>\n",
       "      <td>3.500000</td>\n",
       "      <td>Female</td>\n",
       "      <td>21</td>\n",
       "    </tr>\n",
       "    <tr>\n",
       "      <th>2</th>\n",
       "      <td>4</td>\n",
       "      <td>4</td>\n",
       "      <td>7</td>\n",
       "      <td>6</td>\n",
       "      <td>3</td>\n",
       "      <td>1</td>\n",
       "      <td>Control</td>\n",
       "      <td>4.166667</td>\n",
       "      <td>Female</td>\n",
       "      <td>23</td>\n",
       "    </tr>\n",
       "    <tr>\n",
       "      <th>3</th>\n",
       "      <td>6</td>\n",
       "      <td>6</td>\n",
       "      <td>4</td>\n",
       "      <td>6</td>\n",
       "      <td>3</td>\n",
       "      <td>2</td>\n",
       "      <td>Control</td>\n",
       "      <td>4.500000</td>\n",
       "      <td>Female</td>\n",
       "      <td>51</td>\n",
       "    </tr>\n",
       "    <tr>\n",
       "      <th>4</th>\n",
       "      <td>5</td>\n",
       "      <td>5</td>\n",
       "      <td>5</td>\n",
       "      <td>5</td>\n",
       "      <td>5</td>\n",
       "      <td>6</td>\n",
       "      <td>Control</td>\n",
       "      <td>5.166667</td>\n",
       "      <td>Male</td>\n",
       "      <td>46</td>\n",
       "    </tr>\n",
       "    <tr>\n",
       "      <th>5</th>\n",
       "      <td>2</td>\n",
       "      <td>1</td>\n",
       "      <td>1</td>\n",
       "      <td>1</td>\n",
       "      <td>1</td>\n",
       "      <td>1</td>\n",
       "      <td>Control</td>\n",
       "      <td>1.166667</td>\n",
       "      <td>Female</td>\n",
       "      <td>25</td>\n",
       "    </tr>\n",
       "    <tr>\n",
       "      <th>6</th>\n",
       "      <td>1</td>\n",
       "      <td>1</td>\n",
       "      <td>1</td>\n",
       "      <td>1</td>\n",
       "      <td>1</td>\n",
       "      <td>1</td>\n",
       "      <td>Control</td>\n",
       "      <td>1.000000</td>\n",
       "      <td>Female</td>\n",
       "      <td>23</td>\n",
       "    </tr>\n",
       "    <tr>\n",
       "      <th>7</th>\n",
       "      <td>3</td>\n",
       "      <td>1</td>\n",
       "      <td>2</td>\n",
       "      <td>1</td>\n",
       "      <td>1</td>\n",
       "      <td>1</td>\n",
       "      <td>Control</td>\n",
       "      <td>1.500000</td>\n",
       "      <td>Male</td>\n",
       "      <td>30</td>\n",
       "    </tr>\n",
       "    <tr>\n",
       "      <th>8</th>\n",
       "      <td>6</td>\n",
       "      <td>5</td>\n",
       "      <td>6</td>\n",
       "      <td>6</td>\n",
       "      <td>6</td>\n",
       "      <td>5</td>\n",
       "      <td>Control</td>\n",
       "      <td>5.666667</td>\n",
       "      <td>Male</td>\n",
       "      <td>21</td>\n",
       "    </tr>\n",
       "    <tr>\n",
       "      <th>9</th>\n",
       "      <td>3</td>\n",
       "      <td>1</td>\n",
       "      <td>1</td>\n",
       "      <td>2</td>\n",
       "      <td>5</td>\n",
       "      <td>1</td>\n",
       "      <td>Control</td>\n",
       "      <td>2.166667</td>\n",
       "      <td>Male</td>\n",
       "      <td>25</td>\n",
       "    </tr>\n",
       "    <tr>\n",
       "      <th>10</th>\n",
       "      <td>6</td>\n",
       "      <td>3</td>\n",
       "      <td>5</td>\n",
       "      <td>6</td>\n",
       "      <td>1</td>\n",
       "      <td>3</td>\n",
       "      <td>Control</td>\n",
       "      <td>4.000000</td>\n",
       "      <td>Female</td>\n",
       "      <td>21</td>\n",
       "    </tr>\n",
       "    <tr>\n",
       "      <th>11</th>\n",
       "      <td>6</td>\n",
       "      <td>1</td>\n",
       "      <td>4</td>\n",
       "      <td>6</td>\n",
       "      <td>5</td>\n",
       "      <td>1</td>\n",
       "      <td>Control</td>\n",
       "      <td>3.833333</td>\n",
       "      <td>Male</td>\n",
       "      <td>29</td>\n",
       "    </tr>\n",
       "    <tr>\n",
       "      <th>12</th>\n",
       "      <td>1</td>\n",
       "      <td>1</td>\n",
       "      <td>1</td>\n",
       "      <td>2</td>\n",
       "      <td>1</td>\n",
       "      <td>1</td>\n",
       "      <td>Control</td>\n",
       "      <td>1.166667</td>\n",
       "      <td>Male</td>\n",
       "      <td>24</td>\n",
       "    </tr>\n",
       "    <tr>\n",
       "      <th>13</th>\n",
       "      <td>5</td>\n",
       "      <td>3</td>\n",
       "      <td>5</td>\n",
       "      <td>6</td>\n",
       "      <td>3</td>\n",
       "      <td>3</td>\n",
       "      <td>Control</td>\n",
       "      <td>4.166667</td>\n",
       "      <td>Male</td>\n",
       "      <td>29</td>\n",
       "    </tr>\n",
       "    <tr>\n",
       "      <th>14</th>\n",
       "      <td>4</td>\n",
       "      <td>6</td>\n",
       "      <td>5</td>\n",
       "      <td>5</td>\n",
       "      <td>4</td>\n",
       "      <td>5</td>\n",
       "      <td>Control</td>\n",
       "      <td>4.833333</td>\n",
       "      <td>Female</td>\n",
       "      <td>24</td>\n",
       "    </tr>\n",
       "    <tr>\n",
       "      <th>15</th>\n",
       "      <td>6</td>\n",
       "      <td>6</td>\n",
       "      <td>6</td>\n",
       "      <td>6</td>\n",
       "      <td>6</td>\n",
       "      <td>5</td>\n",
       "      <td>Control</td>\n",
       "      <td>5.833333</td>\n",
       "      <td>Female</td>\n",
       "      <td>22</td>\n",
       "    </tr>\n",
       "    <tr>\n",
       "      <th>16</th>\n",
       "      <td>4</td>\n",
       "      <td>2</td>\n",
       "      <td>4</td>\n",
       "      <td>4</td>\n",
       "      <td>4</td>\n",
       "      <td>1</td>\n",
       "      <td>Control</td>\n",
       "      <td>3.166667</td>\n",
       "      <td>Female</td>\n",
       "      <td>47</td>\n",
       "    </tr>\n",
       "    <tr>\n",
       "      <th>34</th>\n",
       "      <td>4</td>\n",
       "      <td>3</td>\n",
       "      <td>3</td>\n",
       "      <td>3</td>\n",
       "      <td>2</td>\n",
       "      <td>3</td>\n",
       "      <td>Control</td>\n",
       "      <td>3.000000</td>\n",
       "      <td>Female</td>\n",
       "      <td>25</td>\n",
       "    </tr>\n",
       "    <tr>\n",
       "      <th>35</th>\n",
       "      <td>2</td>\n",
       "      <td>2</td>\n",
       "      <td>1</td>\n",
       "      <td>1</td>\n",
       "      <td>1</td>\n",
       "      <td>1</td>\n",
       "      <td>Control</td>\n",
       "      <td>1.333333</td>\n",
       "      <td>Female</td>\n",
       "      <td>25</td>\n",
       "    </tr>\n",
       "    <tr>\n",
       "      <th>36</th>\n",
       "      <td>1</td>\n",
       "      <td>1</td>\n",
       "      <td>1</td>\n",
       "      <td>1</td>\n",
       "      <td>1</td>\n",
       "      <td>1</td>\n",
       "      <td>Control</td>\n",
       "      <td>1.000000</td>\n",
       "      <td>Female</td>\n",
       "      <td>26</td>\n",
       "    </tr>\n",
       "    <tr>\n",
       "      <th>37</th>\n",
       "      <td>3</td>\n",
       "      <td>4</td>\n",
       "      <td>4</td>\n",
       "      <td>3</td>\n",
       "      <td>3</td>\n",
       "      <td>3</td>\n",
       "      <td>Control</td>\n",
       "      <td>3.333333</td>\n",
       "      <td>Female</td>\n",
       "      <td>31</td>\n",
       "    </tr>\n",
       "    <tr>\n",
       "      <th>38</th>\n",
       "      <td>3</td>\n",
       "      <td>1</td>\n",
       "      <td>2</td>\n",
       "      <td>1</td>\n",
       "      <td>5</td>\n",
       "      <td>1</td>\n",
       "      <td>Control</td>\n",
       "      <td>2.166667</td>\n",
       "      <td>Female</td>\n",
       "      <td>25</td>\n",
       "    </tr>\n",
       "    <tr>\n",
       "      <th>39</th>\n",
       "      <td>6</td>\n",
       "      <td>6</td>\n",
       "      <td>7</td>\n",
       "      <td>7</td>\n",
       "      <td>6</td>\n",
       "      <td>5</td>\n",
       "      <td>Control</td>\n",
       "      <td>6.166667</td>\n",
       "      <td>Male</td>\n",
       "      <td>26</td>\n",
       "    </tr>\n",
       "    <tr>\n",
       "      <th>40</th>\n",
       "      <td>2</td>\n",
       "      <td>3</td>\n",
       "      <td>3</td>\n",
       "      <td>2</td>\n",
       "      <td>3</td>\n",
       "      <td>3</td>\n",
       "      <td>Control</td>\n",
       "      <td>2.666667</td>\n",
       "      <td>Male</td>\n",
       "      <td>24</td>\n",
       "    </tr>\n",
       "    <tr>\n",
       "      <th>41</th>\n",
       "      <td>5</td>\n",
       "      <td>4</td>\n",
       "      <td>3</td>\n",
       "      <td>4</td>\n",
       "      <td>2</td>\n",
       "      <td>3</td>\n",
       "      <td>Control</td>\n",
       "      <td>3.500000</td>\n",
       "      <td>Male</td>\n",
       "      <td>23</td>\n",
       "    </tr>\n",
       "    <tr>\n",
       "      <th>42</th>\n",
       "      <td>6</td>\n",
       "      <td>5</td>\n",
       "      <td>5</td>\n",
       "      <td>4</td>\n",
       "      <td>6</td>\n",
       "      <td>4</td>\n",
       "      <td>Control</td>\n",
       "      <td>5.000000</td>\n",
       "      <td>Female</td>\n",
       "      <td>22</td>\n",
       "    </tr>\n",
       "    <tr>\n",
       "      <th>43</th>\n",
       "      <td>3</td>\n",
       "      <td>3</td>\n",
       "      <td>2</td>\n",
       "      <td>3</td>\n",
       "      <td>3</td>\n",
       "      <td>2</td>\n",
       "      <td>Control</td>\n",
       "      <td>2.666667</td>\n",
       "      <td>Female</td>\n",
       "      <td>27</td>\n",
       "    </tr>\n",
       "    <tr>\n",
       "      <th>44</th>\n",
       "      <td>2</td>\n",
       "      <td>1</td>\n",
       "      <td>2</td>\n",
       "      <td>2</td>\n",
       "      <td>1</td>\n",
       "      <td>2</td>\n",
       "      <td>Control</td>\n",
       "      <td>1.666667</td>\n",
       "      <td>Male</td>\n",
       "      <td>23</td>\n",
       "    </tr>\n",
       "    <tr>\n",
       "      <th>45</th>\n",
       "      <td>4</td>\n",
       "      <td>4</td>\n",
       "      <td>5</td>\n",
       "      <td>4</td>\n",
       "      <td>3</td>\n",
       "      <td>4</td>\n",
       "      <td>Control</td>\n",
       "      <td>4.000000</td>\n",
       "      <td>Female</td>\n",
       "      <td>20</td>\n",
       "    </tr>\n",
       "    <tr>\n",
       "      <th>46</th>\n",
       "      <td>4</td>\n",
       "      <td>3</td>\n",
       "      <td>6</td>\n",
       "      <td>5</td>\n",
       "      <td>7</td>\n",
       "      <td>6</td>\n",
       "      <td>Control</td>\n",
       "      <td>5.166667</td>\n",
       "      <td>Male</td>\n",
       "      <td>23</td>\n",
       "    </tr>\n",
       "    <tr>\n",
       "      <th>47</th>\n",
       "      <td>5</td>\n",
       "      <td>2</td>\n",
       "      <td>3</td>\n",
       "      <td>3</td>\n",
       "      <td>1</td>\n",
       "      <td>4</td>\n",
       "      <td>Control</td>\n",
       "      <td>3.000000</td>\n",
       "      <td>Female</td>\n",
       "      <td>23</td>\n",
       "    </tr>\n",
       "    <tr>\n",
       "      <th>48</th>\n",
       "      <td>6</td>\n",
       "      <td>5</td>\n",
       "      <td>5</td>\n",
       "      <td>6</td>\n",
       "      <td>1</td>\n",
       "      <td>4</td>\n",
       "      <td>Control</td>\n",
       "      <td>4.500000</td>\n",
       "      <td>Female</td>\n",
       "      <td>21</td>\n",
       "    </tr>\n",
       "    <tr>\n",
       "      <th>49</th>\n",
       "      <td>2</td>\n",
       "      <td>2</td>\n",
       "      <td>6</td>\n",
       "      <td>2</td>\n",
       "      <td>2</td>\n",
       "      <td>5</td>\n",
       "      <td>Control</td>\n",
       "      <td>3.166667</td>\n",
       "      <td>Female</td>\n",
       "      <td>21</td>\n",
       "    </tr>\n",
       "    <tr>\n",
       "      <th>50</th>\n",
       "      <td>6</td>\n",
       "      <td>6</td>\n",
       "      <td>6</td>\n",
       "      <td>6</td>\n",
       "      <td>6</td>\n",
       "      <td>6</td>\n",
       "      <td>Control</td>\n",
       "      <td>6.000000</td>\n",
       "      <td>Female</td>\n",
       "      <td>25</td>\n",
       "    </tr>\n",
       "  </tbody>\n",
       "</table>\n",
       "</div>"
      ],
      "text/plain": [
       "    Q1  Q2  Q3  Q4  Q5  Q6 Condition     Score  Gender  Age\n",
       "0    1   1   2   1   1   1   Control  1.166667  Female   31\n",
       "1    2   4   6   5   1   3   Control  3.500000  Female   21\n",
       "2    4   4   7   6   3   1   Control  4.166667  Female   23\n",
       "3    6   6   4   6   3   2   Control  4.500000  Female   51\n",
       "4    5   5   5   5   5   6   Control  5.166667    Male   46\n",
       "5    2   1   1   1   1   1   Control  1.166667  Female   25\n",
       "6    1   1   1   1   1   1   Control  1.000000  Female   23\n",
       "7    3   1   2   1   1   1   Control  1.500000    Male   30\n",
       "8    6   5   6   6   6   5   Control  5.666667    Male   21\n",
       "9    3   1   1   2   5   1   Control  2.166667    Male   25\n",
       "10   6   3   5   6   1   3   Control  4.000000  Female   21\n",
       "11   6   1   4   6   5   1   Control  3.833333    Male   29\n",
       "12   1   1   1   2   1   1   Control  1.166667    Male   24\n",
       "13   5   3   5   6   3   3   Control  4.166667    Male   29\n",
       "14   4   6   5   5   4   5   Control  4.833333  Female   24\n",
       "15   6   6   6   6   6   5   Control  5.833333  Female   22\n",
       "16   4   2   4   4   4   1   Control  3.166667  Female   47\n",
       "34   4   3   3   3   2   3   Control  3.000000  Female   25\n",
       "35   2   2   1   1   1   1   Control  1.333333  Female   25\n",
       "36   1   1   1   1   1   1   Control  1.000000  Female   26\n",
       "37   3   4   4   3   3   3   Control  3.333333  Female   31\n",
       "38   3   1   2   1   5   1   Control  2.166667  Female   25\n",
       "39   6   6   7   7   6   5   Control  6.166667    Male   26\n",
       "40   2   3   3   2   3   3   Control  2.666667    Male   24\n",
       "41   5   4   3   4   2   3   Control  3.500000    Male   23\n",
       "42   6   5   5   4   6   4   Control  5.000000  Female   22\n",
       "43   3   3   2   3   3   2   Control  2.666667  Female   27\n",
       "44   2   1   2   2   1   2   Control  1.666667    Male   23\n",
       "45   4   4   5   4   3   4   Control  4.000000  Female   20\n",
       "46   4   3   6   5   7   6   Control  5.166667    Male   23\n",
       "47   5   2   3   3   1   4   Control  3.000000  Female   23\n",
       "48   6   5   5   6   1   4   Control  4.500000  Female   21\n",
       "49   2   2   6   2   2   5   Control  3.166667  Female   21\n",
       "50   6   6   6   6   6   6   Control  6.000000  Female   25"
      ]
     },
     "execution_count": 31,
     "metadata": {},
     "output_type": "execute_result"
    },
    {
     "data": {
      "image/png": "[encoded data removed]",
      "text/plain": [
       "<Figure size 432x288 with 1 Axes>"
      ]
     },
     "metadata": {
      "needs_background": "light"
     },
     "output_type": "display_data"
    }
   ],
   "source": [
    "#Gender\n",
    "controlMaleQ1 = cleanDataControl.loc[(cleanDataControl[\"Condition\"] == \"Control\") & (cleanDataControl[\"Gender\"] == \"Male\"), \"Q1\"]\n",
    "controlFemaleQ1 = cleanDataControl.loc[(cleanDataControl[\"Condition\"] == \"Control\") & (cleanDataControl[\"Gender\"] == \"Female\"), \"Q1\"]\n",
    "print(controlMaleQ1.count())  # count of males\n",
    "print(controlFemaleQ1.count())# count of females\n",
    "\n",
    "control = cleanDataControl[cleanDataControl['Condition'] == 'Control']\n",
    "test = cleanDataControl[cleanDataControl['Condition'] == 'Test']\n",
    "\n",
    "\n",
    "plt.hist(control[\"Age\"], bins = 31)\n",
    "plt.xlabel(\"Age\")\n",
    "plt.ylabel(\"Number of participants\")\n",
    "\n",
    "control"
   ]
  },
  {
   "cell_type": "markdown",
   "metadata": {},
   "source": [
    "### Descriptive Statistics"
   ]
  },
  {
   "cell_type": "code",
   "execution_count": 26,
   "metadata": {},
   "outputs": [
    {
     "data": {
      "text/html": [
       "<div>\n",
       "<style scoped>\n",
       "    .dataframe tbody tr th:only-of-type {\n",
       "        vertical-align: middle;\n",
       "    }\n",
       "\n",
       "    .dataframe tbody tr th {\n",
       "        vertical-align: top;\n",
       "    }\n",
       "\n",
       "    .dataframe thead th {\n",
       "        text-align: right;\n",
       "    }\n",
       "</style>\n",
       "<table border=\"1\" class=\"dataframe\">\n",
       "  <thead>\n",
       "    <tr style=\"text-align: right;\">\n",
       "      <th></th>\n",
       "      <th>Q1</th>\n",
       "      <th>Q2</th>\n",
       "      <th>Q3</th>\n",
       "      <th>Q4</th>\n",
       "      <th>Q5</th>\n",
       "      <th>Q6</th>\n",
       "      <th>Score</th>\n",
       "      <th>Age</th>\n",
       "    </tr>\n",
       "  </thead>\n",
       "  <tbody>\n",
       "    <tr>\n",
       "      <th>count</th>\n",
       "      <td>34.000000</td>\n",
       "      <td>34.000000</td>\n",
       "      <td>34.000000</td>\n",
       "      <td>34.000000</td>\n",
       "      <td>34.000000</td>\n",
       "      <td>34.000000</td>\n",
       "      <td>34.000000</td>\n",
       "      <td>34.000000</td>\n",
       "    </tr>\n",
       "    <tr>\n",
       "      <th>mean</th>\n",
       "      <td>3.794118</td>\n",
       "      <td>3.117647</td>\n",
       "      <td>3.794118</td>\n",
       "      <td>3.705882</td>\n",
       "      <td>3.058824</td>\n",
       "      <td>2.882353</td>\n",
       "      <td>3.392157</td>\n",
       "      <td>26.529412</td>\n",
       "    </tr>\n",
       "    <tr>\n",
       "      <th>std</th>\n",
       "      <td>1.771481</td>\n",
       "      <td>1.821832</td>\n",
       "      <td>1.950593</td>\n",
       "      <td>2.008005</td>\n",
       "      <td>1.983892</td>\n",
       "      <td>1.754038</td>\n",
       "      <td>1.583736</td>\n",
       "      <td>7.398752</td>\n",
       "    </tr>\n",
       "    <tr>\n",
       "      <th>min</th>\n",
       "      <td>1.000000</td>\n",
       "      <td>1.000000</td>\n",
       "      <td>1.000000</td>\n",
       "      <td>1.000000</td>\n",
       "      <td>1.000000</td>\n",
       "      <td>1.000000</td>\n",
       "      <td>1.000000</td>\n",
       "      <td>20.000000</td>\n",
       "    </tr>\n",
       "    <tr>\n",
       "      <th>25%</th>\n",
       "      <td>2.000000</td>\n",
       "      <td>1.000000</td>\n",
       "      <td>2.000000</td>\n",
       "      <td>2.000000</td>\n",
       "      <td>1.000000</td>\n",
       "      <td>1.000000</td>\n",
       "      <td>2.166667</td>\n",
       "      <td>23.000000</td>\n",
       "    </tr>\n",
       "    <tr>\n",
       "      <th>50%</th>\n",
       "      <td>4.000000</td>\n",
       "      <td>3.000000</td>\n",
       "      <td>4.000000</td>\n",
       "      <td>4.000000</td>\n",
       "      <td>3.000000</td>\n",
       "      <td>3.000000</td>\n",
       "      <td>3.416667</td>\n",
       "      <td>24.500000</td>\n",
       "    </tr>\n",
       "    <tr>\n",
       "      <th>75%</th>\n",
       "      <td>5.750000</td>\n",
       "      <td>4.750000</td>\n",
       "      <td>5.000000</td>\n",
       "      <td>6.000000</td>\n",
       "      <td>5.000000</td>\n",
       "      <td>4.000000</td>\n",
       "      <td>4.500000</td>\n",
       "      <td>26.750000</td>\n",
       "    </tr>\n",
       "    <tr>\n",
       "      <th>max</th>\n",
       "      <td>6.000000</td>\n",
       "      <td>6.000000</td>\n",
       "      <td>7.000000</td>\n",
       "      <td>7.000000</td>\n",
       "      <td>7.000000</td>\n",
       "      <td>6.000000</td>\n",
       "      <td>6.166667</td>\n",
       "      <td>51.000000</td>\n",
       "    </tr>\n",
       "  </tbody>\n",
       "</table>\n",
       "</div>"
      ],
      "text/plain": [
       "              Q1         Q2         Q3         Q4         Q5         Q6  \\\n",
       "count  34.000000  34.000000  34.000000  34.000000  34.000000  34.000000   \n",
       "mean    3.794118   3.117647   3.794118   3.705882   3.058824   2.882353   \n",
       "std     1.771481   1.821832   1.950593   2.008005   1.983892   1.754038   \n",
       "min     1.000000   1.000000   1.000000   1.000000   1.000000   1.000000   \n",
       "25%     2.000000   1.000000   2.000000   2.000000   1.000000   1.000000   \n",
       "50%     4.000000   3.000000   4.000000   4.000000   3.000000   3.000000   \n",
       "75%     5.750000   4.750000   5.000000   6.000000   5.000000   4.000000   \n",
       "max     6.000000   6.000000   7.000000   7.000000   7.000000   6.000000   \n",
       "\n",
       "           Score        Age  \n",
       "count  34.000000  34.000000  \n",
       "mean    3.392157  26.529412  \n",
       "std     1.583736   7.398752  \n",
       "min     1.000000  20.000000  \n",
       "25%     2.166667  23.000000  \n",
       "50%     3.416667  24.500000  \n",
       "75%     4.500000  26.750000  \n",
       "max     6.166667  51.000000  "
      ]
     },
     "execution_count": 26,
     "metadata": {},
     "output_type": "execute_result"
    }
   ],
   "source": [
    "control.describe()"
   ]
  },
  {
   "cell_type": "code",
   "execution_count": 30,
   "metadata": {},
   "outputs": [
    {
     "name": "stdout",
     "output_type": "stream",
     "text": [
      "3.392156862745098\n",
      "3.3823529411764706\n",
      "1.5837359152951984\n",
      "1.5819528334563737\n",
      "(0.9012436794161505, 3.6801556772716795e-13)\n"
     ]
    }
   ],
   "source": [
    "controlMean = control.Score.mean()\n",
    "testMean = test.Score.mean()\n",
    "\n",
    "controlStd = control.Score.std()\n",
    "testStd = test.Score.std()\n",
    "print(controlMean)\n",
    "print(testMean)\n",
    "print(controlStd)\n",
    "print(testStd)\n",
    "\n",
    "effectSize = stats.pearsonr(control.Score, test.Score)\n",
    "print(effectSize)"
   ]
  },
  {
   "cell_type": "markdown",
   "metadata": {},
   "source": [
    "### Non-parametric statistics\n",
    "\n",
    "The requirements for the Wilcoxon Signed Rank Sum Test (WSRST) - wilcoxon\n",
    "https://docs.scipy.org/doc/scipy-0.14.0/reference/generated/scipy.stats.wilcoxon.html\n",
    "\n",
    "\n",
    "    The WSRST requires that the populations be paired, for example, the same group of people are tested on two different occasions or things and MEASURED on the effects of each and we then compare the two things or occasions.\n",
    "    The WSRST requires the data to be quantitative. Quantitative data is data that is measured along a scale, that is why I highlighted the world measured in the first point. Had the participants been asked to rank their responses, you will then be dealing with qualitative data, where you will then have to use the sign test to test your hypothesis.\n",
    "\n",
    "Now the Wilcoxon Rank Sum Test (WRST) - ranksums - same as mannwhitneyu\n",
    "https://docs.scipy.org/doc/scipy-0.14.0/reference/generated/scipy.stats.ranksums.html\n",
    "\n",
    "    The main requirement is that the samples be drawn from independent populations. For example you might want to test whether the exam paper 1 is harder than exam paper 2, and to do this you will have two groups of students, and the groups need not be the same size. From the example the two groups are independent, if you had asked the same group to write the same paper twice, then you will use the WSRST to test your hypothesis.\n",
    "    The other requirement is that the data need not be quantitative, i.e. you can also perform the test on qualitative data.\n",
    "\n",
    "\n",
    "Mann Whitney U Test is said to be the same as the Wilcoxon Rank Sum Test, but can be used to compare two separate groups.\n",
    "https://www.youtube.com/watch?v=2L_QAgVXyhc\n",
    "https://docs.scipy.org/doc/scipy/reference/generated/scipy.stats.mannwhitneyu.html \n",
    "\n",
    "\n",
    "Wilcoxon test should be used if we have repeated measures. Mann u whitney should be used if we have independant measures. \n",
    "\n",
    "Independent is when a participant only does one condition. This means that we can only use Mann u whitney test for the first video the participants are shown. In other cases, we have participants doing both conditions, which means that Wilcoxon should be used. "
   ]
  },
  {
   "cell_type": "markdown",
   "metadata": {},
   "source": [
    "### Condition\n",
    "\n",
    "Comparing every question based on condition "
   ]
  },
  {
   "cell_type": "code",
   "execution_count": 4,
   "metadata": {},
   "outputs": [
    {
     "data": {
      "text/plain": [
       "WilcoxonResult(statistic=67.5, pvalue=0.6583982655830843)"
      ]
     },
     "execution_count": 4,
     "metadata": {},
     "output_type": "execute_result"
    }
   ],
   "source": [
    "controlQ1 = cleanDataControl.loc[cleanDataControl[\"Condition\"] == \"Control\", \"Q1\"]\n",
    "testQ1 = cleanDataControl.loc[cleanDataControl[\"Condition\"] == \"Test\", \"Q1\"]\n",
    "stats.wilcoxon(controlQ1, testQ1)"
   ]
  },
  {
   "cell_type": "code",
   "execution_count": 5,
   "metadata": {},
   "outputs": [
    {
     "data": {
      "text/plain": [
       "WilcoxonResult(statistic=52.5, pvalue=0.22381070135969539)"
      ]
     },
     "execution_count": 5,
     "metadata": {},
     "output_type": "execute_result"
    }
   ],
   "source": [
    "controlQ2 = cleanDataControl.loc[cleanDataControl[\"Condition\"] == \"Control\", \"Q2\"]\n",
    "testQ2 = cleanDataControl.loc[cleanDataControl[\"Condition\"] == \"Test\", \"Q2\"]\n",
    "\n",
    "stats.wilcoxon(controlQ2, testQ2)"
   ]
  },
  {
   "cell_type": "code",
   "execution_count": 6,
   "metadata": {},
   "outputs": [
    {
     "data": {
      "text/plain": [
       "WilcoxonResult(statistic=56.5, pvalue=0.32767012747337343)"
      ]
     },
     "execution_count": 6,
     "metadata": {},
     "output_type": "execute_result"
    }
   ],
   "source": [
    "controlQ3 = cleanDataControl.loc[cleanDataControl[\"Condition\"] == \"Control\", \"Q3\"]\n",
    "testQ3 = cleanDataControl.loc[cleanDataControl[\"Condition\"] == \"Test\", \"Q3\"]\n",
    "\n",
    "stats.wilcoxon(controlQ3, testQ3)"
   ]
  },
  {
   "cell_type": "code",
   "execution_count": 7,
   "metadata": {},
   "outputs": [
    {
     "data": {
      "text/plain": [
       "WilcoxonResult(statistic=130.0, pvalue=0.5469714934840502)"
      ]
     },
     "execution_count": 7,
     "metadata": {},
     "output_type": "execute_result"
    }
   ],
   "source": [
    "controlQ4 = cleanDataControl.loc[cleanDataControl[\"Condition\"] == \"Control\", \"Q4\"]\n",
    "testQ4 = cleanDataControl.loc[cleanDataControl[\"Condition\"] == \"Test\", \"Q4\"]\n",
    "\n",
    "stats.wilcoxon(controlQ4, testQ4)"
   ]
  },
  {
   "cell_type": "code",
   "execution_count": 8,
   "metadata": {},
   "outputs": [
    {
     "data": {
      "text/plain": [
       "WilcoxonResult(statistic=41.0, pvalue=0.45624567675289407)"
      ]
     },
     "execution_count": 8,
     "metadata": {},
     "output_type": "execute_result"
    }
   ],
   "source": [
    "controlQ5 = cleanDataControl.loc[cleanDataControl[\"Condition\"] == \"Control\", \"Q5\"]\n",
    "testQ5 = cleanDataControl.loc[cleanDataControl[\"Condition\"] == \"Test\", \"Q5\"]\n",
    "\n",
    "stats.wilcoxon(controlQ5, testQ5)"
   ]
  },
  {
   "cell_type": "code",
   "execution_count": 9,
   "metadata": {},
   "outputs": [
    {
     "data": {
      "text/plain": [
       "WilcoxonResult(statistic=123.5, pvalue=0.9192699465699425)"
      ]
     },
     "execution_count": 9,
     "metadata": {},
     "output_type": "execute_result"
    }
   ],
   "source": [
    "controlQ6 = cleanDataControl.loc[cleanDataControl[\"Condition\"] == \"Control\", \"Q6\"]\n",
    "testQ6 = cleanDataControl.loc[cleanDataControl[\"Condition\"] == \"Test\", \"Q6\"]\n",
    "\n",
    "stats.wilcoxon(controlQ6, testQ6)"
   ]
  },
  {
   "cell_type": "markdown",
   "metadata": {},
   "source": [
    "### Gender\n",
    "\n",
    "Let's check if gender makes a difference for any of the questions. As the number of respondents of each gender is not equal, Mann-Whitney U test will be used here. \n"
   ]
  },
  {
   "cell_type": "code",
   "execution_count": 10,
   "metadata": {},
   "outputs": [
    {
     "data": {
      "text/plain": [
       "MannwhitneyuResult(statistic=119.5, pvalue=0.3298763119075797)"
      ]
     },
     "execution_count": 10,
     "metadata": {},
     "output_type": "execute_result"
    }
   ],
   "source": [
    "controlMaleQ1 = cleanDataControl.loc[(cleanDataControl[\"Condition\"] == \"Control\") & (cleanDataControl[\"Gender\"] == \"Male\"), \"Q1\"]\n",
    "controlFemaleQ1 = cleanDataControl.loc[(cleanDataControl[\"Condition\"] == \"Control\") & (cleanDataControl[\"Gender\"] == \"Female\"), \"Q1\"]\n",
    "stats.mannwhitneyu(controlMaleQ1, controlFemaleQ1)"
   ]
  },
  {
   "cell_type": "code",
   "execution_count": 11,
   "metadata": {},
   "outputs": [
    {
     "data": {
      "text/plain": [
       "MannwhitneyuResult(statistic=117.0, pvalue=0.29802506399763223)"
      ]
     },
     "execution_count": 11,
     "metadata": {},
     "output_type": "execute_result"
    }
   ],
   "source": [
    "testMaleQ1 = cleanDataControl.loc[(cleanDataControl[\"Condition\"] == \"Test\") & (cleanDataControl[\"Gender\"] == \"Male\"), \"Q1\"]\n",
    "testFemaleQ1 = cleanDataControl.loc[(cleanDataControl[\"Condition\"] == \"Test\") & (cleanDataControl[\"Gender\"] == \"Female\"), \"Q1\"]\n",
    "stats.mannwhitneyu(testMaleQ1, testFemaleQ1)"
   ]
  },
  {
   "cell_type": "code",
   "execution_count": 12,
   "metadata": {},
   "outputs": [
    {
     "data": {
      "text/plain": [
       "MannwhitneyuResult(statistic=112.0, pvalue=0.236650232649541)"
      ]
     },
     "execution_count": 12,
     "metadata": {},
     "output_type": "execute_result"
    }
   ],
   "source": [
    "controlMaleQ2 = cleanDataControl.loc[(cleanDataControl[\"Condition\"] == \"Control\") & (cleanDataControl[\"Gender\"] == \"Male\"), \"Q2\"]\n",
    "controlFemaleQ2 = cleanDataControl.loc[(cleanDataControl[\"Condition\"] == \"Control\") & (cleanDataControl[\"Gender\"] == \"Female\"), \"Q2\"]\n",
    "stats.mannwhitneyu(controlMaleQ2, controlFemaleQ2)"
   ]
  },
  {
   "cell_type": "code",
   "execution_count": 13,
   "metadata": {},
   "outputs": [
    {
     "data": {
      "text/plain": [
       "MannwhitneyuResult(statistic=124.5, pvalue=0.39891871808922563)"
      ]
     },
     "execution_count": 13,
     "metadata": {},
     "output_type": "execute_result"
    }
   ],
   "source": [
    "testMaleQ2 = cleanDataControl.loc[(cleanDataControl[\"Condition\"] == \"Test\") & (cleanDataControl[\"Gender\"] == \"Male\"), \"Q2\"]\n",
    "testFemaleQ2 = cleanDataControl.loc[(cleanDataControl[\"Condition\"] == \"Test\") & (cleanDataControl[\"Gender\"] == \"Female\"), \"Q2\"]\n",
    "stats.mannwhitneyu(testMaleQ2, testFemaleQ2)"
   ]
  },
  {
   "cell_type": "code",
   "execution_count": 14,
   "metadata": {},
   "outputs": [
    {
     "data": {
      "text/plain": [
       "MannwhitneyuResult(statistic=130.0, pvalue=0.47816508384643297)"
      ]
     },
     "execution_count": 14,
     "metadata": {},
     "output_type": "execute_result"
    }
   ],
   "source": [
    "controlMaleQ3 = cleanDataControl.loc[(cleanDataControl[\"Condition\"] == \"Control\") & (cleanDataControl[\"Gender\"] == \"Male\"), \"Q3\"]\n",
    "controlFemaleQ3 = cleanDataControl.loc[(cleanDataControl[\"Condition\"] == \"Control\") & (cleanDataControl[\"Gender\"] == \"Female\"), \"Q3\"]\n",
    "stats.mannwhitneyu(controlMaleQ3, controlFemaleQ3)"
   ]
  },
  {
   "cell_type": "code",
   "execution_count": 15,
   "metadata": {},
   "outputs": [
    {
     "data": {
      "text/plain": [
       "MannwhitneyuResult(statistic=115.5, pvalue=0.2788334750198157)"
      ]
     },
     "execution_count": 15,
     "metadata": {},
     "output_type": "execute_result"
    }
   ],
   "source": [
    "testMaleQ3 = cleanDataControl.loc[(cleanDataControl[\"Condition\"] == \"Test\") & (cleanDataControl[\"Gender\"] == \"Male\"), \"Q3\"]\n",
    "testFemaleQ3 = cleanDataControl.loc[(cleanDataControl[\"Condition\"] == \"Test\") & (cleanDataControl[\"Gender\"] == \"Female\"), \"Q3\"]\n",
    "stats.mannwhitneyu(testMaleQ3, testFemaleQ3)"
   ]
  },
  {
   "cell_type": "code",
   "execution_count": 16,
   "metadata": {},
   "outputs": [
    {
     "data": {
      "text/plain": [
       "MannwhitneyuResult(statistic=113.5, pvalue=0.2545713928658049)"
      ]
     },
     "execution_count": 16,
     "metadata": {},
     "output_type": "execute_result"
    }
   ],
   "source": [
    "controlMaleQ4 = cleanDataControl.loc[(cleanDataControl[\"Condition\"] == \"Control\") & (cleanDataControl[\"Gender\"] == \"Male\"), \"Q4\"]\n",
    "controlFemaleQ4 = cleanDataControl.loc[(cleanDataControl[\"Condition\"] == \"Control\") & (cleanDataControl[\"Gender\"] == \"Female\"), \"Q4\"]\n",
    "stats.mannwhitneyu(controlMaleQ4, controlFemaleQ4)"
   ]
  },
  {
   "cell_type": "code",
   "execution_count": 17,
   "metadata": {},
   "outputs": [
    {
     "data": {
      "text/plain": [
       "MannwhitneyuResult(statistic=113.0, pvalue=0.24762783642522151)"
      ]
     },
     "execution_count": 17,
     "metadata": {},
     "output_type": "execute_result"
    }
   ],
   "source": [
    "testMaleQ4 = cleanDataControl.loc[(cleanDataControl[\"Condition\"] == \"Test\") & (cleanDataControl[\"Gender\"] == \"Male\"), \"Q4\"]\n",
    "testFemaleQ4 = cleanDataControl.loc[(cleanDataControl[\"Condition\"] == \"Test\") & (cleanDataControl[\"Gender\"] == \"Female\"), \"Q4\"]\n",
    "stats.mannwhitneyu(testMaleQ4, testFemaleQ4)"
   ]
  },
  {
   "cell_type": "code",
   "execution_count": 18,
   "metadata": {},
   "outputs": [
    {
     "data": {
      "text/plain": [
       "MannwhitneyuResult(statistic=95.0, pvalue=0.08771332653125297)"
      ]
     },
     "execution_count": 18,
     "metadata": {},
     "output_type": "execute_result"
    }
   ],
   "source": [
    "controlMaleQ5 = cleanDataControl.loc[(cleanDataControl[\"Condition\"] == \"Control\") & (cleanDataControl[\"Gender\"] == \"Male\"), \"Q5\"]\n",
    "controlFemaleQ5 = cleanDataControl.loc[(cleanDataControl[\"Condition\"] == \"Control\") & (cleanDataControl[\"Gender\"] == \"Female\"), \"Q5\"]\n",
    "stats.mannwhitneyu(controlMaleQ5, controlFemaleQ5)"
   ]
  },
  {
   "cell_type": "code",
   "execution_count": 19,
   "metadata": {},
   "outputs": [
    {
     "data": {
      "text/plain": [
       "MannwhitneyuResult(statistic=102.0, pvalue=0.13791416542872192)"
      ]
     },
     "execution_count": 19,
     "metadata": {},
     "output_type": "execute_result"
    }
   ],
   "source": [
    "testMaleQ5 = cleanDataControl.loc[(cleanDataControl[\"Condition\"] == \"Test\") & (cleanDataControl[\"Gender\"] == \"Male\"), \"Q5\"]\n",
    "testFemaleQ5 = cleanDataControl.loc[(cleanDataControl[\"Condition\"] == \"Test\") & (cleanDataControl[\"Gender\"] == \"Female\"), \"Q5\"]\n",
    "stats.mannwhitneyu(testMaleQ5, testFemaleQ5)"
   ]
  },
  {
   "cell_type": "code",
   "execution_count": 20,
   "metadata": {},
   "outputs": [
    {
     "data": {
      "text/plain": [
       "MannwhitneyuResult(statistic=121.0, pvalue=0.3483122222390572)"
      ]
     },
     "execution_count": 20,
     "metadata": {},
     "output_type": "execute_result"
    }
   ],
   "source": [
    "controlMaleQ6 = cleanDataControl.loc[(cleanDataControl[\"Condition\"] == \"Control\") & (cleanDataControl[\"Gender\"] == \"Male\"), \"Q6\"]\n",
    "controlFemaleQ6 = cleanDataControl.loc[(cleanDataControl[\"Condition\"] == \"Control\") & (cleanDataControl[\"Gender\"] == \"Female\"), \"Q6\"]\n",
    "stats.mannwhitneyu(controlMaleQ6, controlFemaleQ6)"
   ]
  },
  {
   "cell_type": "code",
   "execution_count": 21,
   "metadata": {},
   "outputs": [
    {
     "data": {
      "text/plain": [
       "MannwhitneyuResult(statistic=110.5, pvalue=0.21793280372287183)"
      ]
     },
     "execution_count": 21,
     "metadata": {},
     "output_type": "execute_result"
    }
   ],
   "source": [
    "testMaleQ6 = cleanDataControl.loc[(cleanDataControl[\"Condition\"] == \"Test\") & (cleanDataControl[\"Gender\"] == \"Male\"), \"Q6\"]\n",
    "testFemaleQ6 = cleanDataControl.loc[(cleanDataControl[\"Condition\"] == \"Test\") & (cleanDataControl[\"Gender\"] == \"Female\"), \"Q6\"]\n",
    "stats.mannwhitneyu(testMaleQ6, testFemaleQ6)"
   ]
  },
  {
   "cell_type": "markdown",
   "metadata": {},
   "source": [
    "### Comparing presence scores"
   ]
  },
  {
   "cell_type": "code",
   "execution_count": 22,
   "metadata": {},
   "outputs": [
    {
     "data": {
      "text/plain": [
       "WilcoxonResult(statistic=201.5, pvalue=0.7290065233728555)"
      ]
     },
     "execution_count": 22,
     "metadata": {},
     "output_type": "execute_result"
    }
   ],
   "source": [
    "controlScore = cleanDataControl.loc[cleanDataControl[\"Condition\"] == \"Control\", \"Score\"]\n",
    "testScore = cleanDataControl.loc[cleanDataControl[\"Condition\"] == \"Test\", \"Score\"]\n",
    "stats.wilcoxon(controlScore, testScore)"
   ]
  },
  {
   "cell_type": "markdown",
   "metadata": {},
   "source": [
    "### Comparing answer means"
   ]
  },
  {
   "cell_type": "code",
   "execution_count": 23,
   "metadata": {},
   "outputs": [
    {
     "data": {
      "text/plain": [
       "(1, 7)"
      ]
     },
     "execution_count": 23,
     "metadata": {},
     "output_type": "execute_result"
    },
    {
     "data": {
      "image/png": "[encoded data removed]",
      "text/plain": [
       "<Figure size 720x720 with 1 Axes>"
      ]
     },
     "metadata": {
      "needs_background": "light"
     },
     "output_type": "display_data"
    }
   ],
   "source": [
    "means = pd.DataFrame([[\"Q1\", control.iloc[:, 0].mean(), test.iloc[:, 0].mean()],[\"Q2\", control.iloc[:, 1].mean(), test.iloc[:, 1].mean()],[\"Q3\", control.iloc[:, 2].mean(), test.iloc[:, 2].mean()],[\"Q4\", control.iloc[:, 3].mean(), test.iloc[:, 3].mean()],[\"Q5\", control.iloc[:, 4].mean(), test.iloc[:, 4].mean()],[\"Q6\", control.iloc[:, 5].mean(), test.iloc[:, 5].mean()]], columns = [\"Question\", \"Control\", \"Test\"])\n",
    "\n",
    "fig, ax1 = plt.subplots(figsize=(10, 10))\n",
    "tidy = means.melt(id_vars='Question').rename(columns=str.title)\n",
    "sns.barplot(x='Question', y='Value', hue='Variable', data=tidy, ax=ax1)\n",
    "sns.despine(fig)\n",
    "plt.ylim(bottom = 1,top = 7)"
   ]
  },
  {
   "cell_type": "markdown",
   "metadata": {},
   "source": [
    "### Boxplot"
   ]
  },
  {
   "cell_type": "code",
   "execution_count": 24,
   "metadata": {},
   "outputs": [
    {
     "data": {
      "text/plain": [
       "(1, 7)"
      ]
     },
     "execution_count": 24,
     "metadata": {},
     "output_type": "execute_result"
    },
    {
     "data": {
      "image/png": "[encoded data removed]",
      "text/plain": [
       "<Figure size 360x360 with 1 Axes>"
      ]
     },
     "metadata": {
      "needs_background": "light"
     },
     "output_type": "display_data"
    }
   ],
   "source": [
    "sns.catplot(x = 'Condition', y = \"Score\", kind = \"strip\", data = cleanDataControl)\n",
    "plt.ylim(bottom = 1,top = 7)"
   ]
  },
  {
   "cell_type": "markdown",
   "metadata": {},
   "source": [
    "When reporting the Wilcoxon test results only the statistic and its significance (p-value) should be reported. (Together with median?)\n",
    "\n",
    "For example: Presence for the Control group (Median = sth) was lower than for the Test group (Median = sth else) T(statistic) = this, p = that"
   ]
  },
  {
   "cell_type": "code",
   "execution_count": null,
   "metadata": {},
   "outputs": [],
   "source": []
  },
  {
   "cell_type": "code",
   "execution_count": null,
   "metadata": {},
   "outputs": [],
   "source": []
  },
  {
   "cell_type": "code",
   "execution_count": null,
   "metadata": {},
   "outputs": [],
   "source": []
  },
  {
   "cell_type": "code",
   "execution_count": null,
   "metadata": {},
   "outputs": [],
   "source": []
  },
  {
   "cell_type": "code",
   "execution_count": null,
   "metadata": {},
   "outputs": [],
   "source": []
  }
 ],
 "metadata": {
  "kernelspec": {
   "display_name": "Python 3",
   "language": "python",
   "name": "python3"
  },
  "language_info": {
   "codemirror_mode": {
    "name": "ipython",
    "version": 3
   },
   "file_extension": ".py",
   "mimetype": "text/x-python",
   "name": "python",
   "nbconvert_exporter": "python",
   "pygments_lexer": "ipython3",
   "version": "3.7.6"
  }
 },
 "nbformat": 4,
 "nbformat_minor": 4
}
